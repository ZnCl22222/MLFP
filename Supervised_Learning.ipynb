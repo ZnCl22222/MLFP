{
  "cells": [
    {
      "cell_type": "markdown",
      "metadata": {
        "id": "view-in-github",
        "colab_type": "text"
      },
      "source": [
        "<a href=\"https://colab.research.google.com/github/ZnCl22222/MLFP/blob/main/Supervised_Learning.ipynb\" target=\"_parent\"><img src=\"https://colab.research.google.com/assets/colab-badge.svg\" alt=\"Open In Colab\"/></a>"
      ]
    },
    {
      "cell_type": "markdown",
      "metadata": {
        "id": "eeamZd6adQwn"
      },
      "source": [
        "# 90803 MLFP-Data Cleaning and Question Definition\n",
        "## Team 24: Huixuan Li (Connie), Sant Leelamanthep (Winn)\n",
        "## Task 1: Supervised Learning"
      ]
    },
    {
      "cell_type": "code",
      "execution_count": 1,
      "metadata": {
        "colab": {
          "base_uri": "https://localhost:8080/"
        },
        "id": "7ELudIACTnKq",
        "outputId": "d596a2f6-3bfc-4109-f1de-8ac75d467901"
      },
      "outputs": [
        {
          "output_type": "stream",
          "name": "stdout",
          "text": [
            "Mounted at /content/gdrive\n"
          ]
        }
      ],
      "source": [
        "# Connect notebook with google drive\n",
        "from google.colab import drive\n",
        "drive.mount(\"/content/gdrive\", force_remount=True)"
      ]
    },
    {
      "cell_type": "code",
      "execution_count": 2,
      "metadata": {
        "id": "f8Vfff-AzUD1"
      },
      "outputs": [],
      "source": [
        "# Install PySpark\n",
        "%%capture\n",
        "!apt install libkrb5-dev\n",
        "!wget https://downloads.apache.org/spark/spark-3.0.2/spark-3.0.2-bin-hadoop3.2.tgz\n",
        "!tar xf spark-3.0.2-bin-hadoop3.2.tgz\n",
        "# !pip install findspark\n",
        "# !pip install sparkmagic\n",
        "!pip install pyspark\n",
        "!pip install pyspark --user"
      ]
    },
    {
      "cell_type": "code",
      "execution_count": 3,
      "metadata": {
        "id": "P8lwvMCDyRdr"
      },
      "outputs": [],
      "source": [
        "# Import packages\n",
        "import pyspark\n",
        "from pyspark.sql import SparkSession\n",
        "from pyspark import SparkContext\n",
        "from collections import OrderedDict\n",
        "from pyspark.sql.functions import isnull, count, when, col, concat, concat_ws\n",
        "from pyspark.sql.functions import abs, row_number, sum, lower, rank, split, desc, explode, collect_list\n",
        "from pyspark.sql.window import Window\n",
        "from pyspark.sql.functions import first\n",
        "from pyspark.ml.feature import OneHotEncoder, StringIndexer\n",
        "import pandas as pd\n",
        "import pyspark.sql.functions as F\n",
        "from pyspark.sql.functions import mean"
      ]
    },
    {
      "cell_type": "markdown",
      "metadata": {
        "id": "DHLifH3OimBg"
      },
      "source": [
        "Because of the large amount of data, we choose to use PySpark for data pre-processing first."
      ]
    },
    {
      "cell_type": "code",
      "execution_count": 4,
      "metadata": {
        "id": "XBfmj4l7aClS"
      },
      "outputs": [],
      "source": [
        "# Create a new Spark session \n",
        "spark = SparkSession.builder.appName('MLFP_Task1').getOrCreate()"
      ]
    },
    {
      "cell_type": "markdown",
      "metadata": {
        "id": "oCtmrx29-KhA"
      },
      "source": [
        "# Read data"
      ]
    },
    {
      "cell_type": "code",
      "execution_count": 5,
      "metadata": {
        "id": "mS4JXSYbaMIm"
      },
      "outputs": [],
      "source": [
        "sc = spark.sparkContext\n",
        "def read_data(datapath):\n",
        "  \"\"\"\n",
        "  Read txt file and convert into DataFrame\n",
        "  Input: txt file path\n",
        "  Output: DataFrame\n",
        "  \"\"\"\n",
        "  text_file = sc.textFile(datapath)\n",
        "  header = text_file.first()\n",
        "  data_rdd = text_file.filter(lambda line: line != header)\n",
        "  split_rdd = data_rdd.map(lambda line: line.split(\"|\"))\n",
        "  data_row_rdd = split_rdd.map(lambda values: tuple(values))\n",
        "  return data_row_rdd.toDF(header.split(\"|\"))"
      ]
    },
    {
      "cell_type": "code",
      "execution_count": 6,
      "metadata": {
        "colab": {
          "base_uri": "https://localhost:8080/"
        },
        "id": "nfgsSNez8NPx",
        "outputId": "145eb254-0338-437f-9395-74bfcf29d339"
      },
      "outputs": [
        {
          "output_type": "stream",
          "name": "stdout",
          "text": [
            "+----+------+-----+----------------+\n",
            "|PtID|Method|HbA1c|HbA1cImputeDtMnC|\n",
            "+----+------+-----+----------------+\n",
            "|   1|   DCA|  6.8|          -1.959|\n",
            "|   1|   DCA|  7.2|          10.888|\n",
            "|   1|   DCA|  7.5|          24.166|\n",
            "|   1|   DCA|  8.0|          38.274|\n",
            "|   1|   DCA|  7.3|           67.12|\n",
            "+----+------+-----+----------------+\n",
            "only showing top 5 rows\n",
            "\n"
          ]
        }
      ],
      "source": [
        "df_test_result = read_data(\"/content/gdrive/My Drive/Dataset/Hba1cLong.txt\")\n",
        "df_test_result.show(5)"
      ]
    },
    {
      "cell_type": "code",
      "execution_count": 7,
      "metadata": {
        "colab": {
          "base_uri": "https://localhost:8080/"
        },
        "id": "d3hww7Mo5B-e",
        "outputId": "d8a742a1-88e4-47f5-823b-f6f28c84b758"
      },
      "outputs": [
        {
          "output_type": "stream",
          "name": "stdout",
          "text": [
            "+----+-----------+---------+----------+---------+------------+------------+----------------+----------+-------------------+----------------+-------------+----------------+---------------+------------+------------+-------------+-----------+----------------+-----------------+---------------+------------------+---------+--------+--------+--------+----------------------+-------+-------------------+------+------+------------+------------+--------+-------------------+---------+---+-------+------------------+---+--------+---+--------+-------+-------+------------+--------------+----------------+-----+--------+------------------+--------------+---------+----------------------+-------------------------+-----------------+--------------------+-----------------+----------------------+-------------------+------+------------+-----+------------------------+-----------+-----------+-----+----------------+-------------------------+---------------+---------------+---------------+---------------+---------------+---------------+---------+-----------+----------------------+--------------+-------------+---------+----------------+--------+---------+------------+-------+------------+------------+------------------+--------------------+-------------------------+---+------------+----------+-------------+------------------+--------------------+------+\n",
            "|PtID|      Visit|ExamDtMnC|ageConsent|Pt_Gender|Pt_PumpManuf|Pt_PumpModel|Pt_CGMUseNumDays|Pt_InsPriv|Pt_InsSingleService|Pt_InsNoCoverage|Pt_InsUnknown|Pt_MaritalStatus|Pt_ImmBioFamT1D|Pt_FatherT1D|Pt_MotherT1D|Pt_SiblingT1D|Pt_ChildT1D|Pt_GrandchildT1D|Pt_GrandparentT1D|Pt_ExtBioFamT1D|     Pt_raceEthNew|HeightUnk|BldPrSys|BldPrDia|BldPrUnk|SMBGperDayPtMeterCombo|CGMUsed|  AlbuminuriaStatus|ACEARB|InsUnk|InsNotTaking|    WeightKg|HeightCm|LipidsFastingStatus|DirectLDL|age|diabDur|TotalDailyInsPerKg|LDL|LDLUnits|HDL|HDLUnits|TotChol|Triglyc|TriglycUnits|CollectionType|BloodTstNotAvail|  BUN|BUNUnits|AlbCreatRat_mggNew|PregInPastYear|InjMethod|UnitsInsBasalOrLongAct|UnitsInsBasalOrLongActUnk|BGTestAvgNumMeter|BGTestMetDatNotAvail|BGTestAvgNumPtRep|BGTestPtRepDatNotAvail|CGMUsedDevRschStudy|NoExam|GFRIsBelow60|  TSH|Pt_InsulinDeliveryMethod|Pt_CGMManuf|Pt_CGMModel|HbA1c|AutonomicNeuroCl|SMBGperDayPtMeterComboCat|InsulinUsedNew1|InsulinUsedNew2|InsulinUsedNew3|InsulinUsedNew4|InsulinUsedNew5|InsulinUsedNew6|Pt_InsGov|PregAtVisit|NumPumpBolusOrShortAct|isletCellTrans|pancreasTrans|WeightUnk|HbA1cImputeDtMnC|Pt_SHFlg|Pt_DKAFlg|         bmi|bmiPerc|   bmiZscore|Pt_SmokeCurr|       Pt_EduLevel|        Pt_AnnualInc|NumPumpBolusOrShortActUnk|GFR|diagAgeCombo|Pt_A1cGoal|Pt_A1cGoalLev|Pt_A1cGoalLevelYr5|Pt_A1cGoalLevelDsYr5|SiteID|\n",
            "+----+-----------+---------+----------+---------+------------+------------+----------------+----------+-------------------+----------------+-------------+----------------+---------------+------------+------------+-------------+-----------+----------------+-----------------+---------------+------------------+---------+--------+--------+--------+----------------------+-------+-------------------+------+------+------------+------------+--------+-------------------+---------+---+-------+------------------+---+--------+---+--------+-------+-------+------------+--------------+----------------+-----+--------+------------------+--------------+---------+----------------------+-------------------------+-----------------+--------------------+-----------------+----------------------+-------------------+------+------------+-----+------------------------+-----------+-----------+-----+----------------+-------------------------+---------------+---------------+---------------+---------------+---------------+---------------+---------+-----------+----------------------+--------------+-------------+---------+----------------+--------+---------+------------+-------+------------+------------+------------------+--------------------+-------------------------+---+------------+----------+-------------+------------------+--------------------+------+\n",
            "|   1|Enrollment1|   -1.959|        42|        F|   Medtronic|Paradigm 712|              26|         1|                  0|               0|             |       3.Married|           2.No|            |            |             |           |                |                 |           2.No|White Non-Hispanic|        1|     150|      82|        |                     4|    Yes|No microalbuminuria|   Yes|      |            |            |        |        Not Fasting|         | 42|     33|                  | 85|   mg/dL| 50|   mg/dL|    151|     81|       mg/dL|          Spot|               1|     |        |                15|              |         |                      |                        0|                 |                   1|                4|                     0|                   |      |          No|     |            Insulin pump|  Medtronic|           |  6.8|                |     B) 4-6 times per day|  Humalog 50/50|               |               |               |               |               |        0|         No|                     7|            No|           No|        1|          -1.959|       0|        0|            |       |            |          No|4. Bachelor degree|$100,000 - less t...|                        1|   |           8|          |             |                  |                    |    36|\n",
            "|   1|     Year 1|   10.888|        42|        F|   Medtronic|Paradigm 722|              28|         1|                  0|               0|             |       3.Married|               |            |            |             |           |                |                 |               |White Non-Hispanic|         |     134|      81|        |                     4|    Yes|                   |   Yes|      |            |111.58372302|  170.18|            Fasting|         | 43|     34|      0.3584752231| 71|   mg/dL|101|   mg/dL|    156|    150|       mg/dL|          Spot|                |174.0|   mg/dL|                  |              |         |                      |                        0|                 |                   1|                4|                     0|                   |      |          No|     |            Insulin pump|  Medtronic|           |  7.2|                |     B) 4-6 times per day|  Humalog 50/50|               |               |               |               |               |        0|         No|                     5|              |             |        0|          10.888|       0|        0|38.528651502|       |0.8870526441|          No|4. Bachelor degree|$100,000 - less t...|                        1|   |           8|       Yes|          6.5|                  |                    |    36|\n",
            "|   1|     Annual|   24.166|        42|        F|            |            |                |          |                   |                |             |                |               |            |            |             |           |                |                 |               |White Non-Hispanic|        1|        |        |       1|                      |    Yes|No microalbuminuria|      |      |            |            |        |            Fasting|         | 44|     35|                  | 85|   mg/dL| 42|   mg/dL|    135|     39|       mg/dL|          Spot|                |     |        |                 8|            No|         |                      |                        1|                 |                   1|                 |                     1|            Unknown|      |          No|2.560|                        |           |           |  7.5|                |                         |  Humalog 50/50|               |               |               |               |               |         |         No|                      |            No|           No|        1|          24.166|        |         |            |       |            |            |                  |                    |                        0|   |           8|          |             |                  |                    |    36|\n",
            "|   1|     Annual|   38.274|        42|        F|            |            |                |          |                   |                |             |                |               |            |            |             |           |                |                 |               |White Non-Hispanic|         |     146|      77|        |                     4|    Yes|No microalbuminuria|    No|      |            | 104.3262451|  170.18|            Fasting|         | 45|     36|      0.4025832614| 84|   mg/dL| 50|   mg/dL|    150|     81|       mg/dL|          Spot|                | 22.0|   mg/dL|                  |            No|         |                  33.0|                        0|                4|                   0|                4|                     0|                 No|      |          No|1.610|                        |           |           |  8.0|                |     B) 4-6 times per day|  Humalog 50/50|               |               |               |               |               |         |         No|                     4|            No|           No|        0|          38.274|        |         |36.022722949|       | 0.663166193|            |                  |                    |                        1|   |           8|          |             |                  |                    |    36|\n",
            "|   1|     Year 5|    67.12|        42|        F|      Tandem|      t:slim|              30|         1|                  0|               0|             |       3.Married|               |            |            |             |           |                |                 |               |White Non-Hispanic|        1|        |        |       1|                     3|     No|No microalbuminuria|   Yes|      |            |            |        |            Unknown|         | 47|     39|                  | 98|   mg/dL| 54|   mg/dL|       |     53|       mg/dL|          Spot|                | 12.0|   mg/dL|                  |            No|         |                  26.0|                        0|                 |                   1|                3|                     0|                   |      |          No|2.110|            Insulin pump|     Dexcom|G4 Platinum|  7.3|                |     A) 0-3 times per day|  Humalog 50/50|               |               |               |               |               |        0|         No|                     3|            No|           No|        1|           67.12|       0|        0|            |       |            |          No|4. Bachelor degree|$100,000 - less t...|                        1|   |           8|       Yes|             |            < 7.0%|                    |    36|\n",
            "+----+-----------+---------+----------+---------+------------+------------+----------------+----------+-------------------+----------------+-------------+----------------+---------------+------------+------------+-------------+-----------+----------------+-----------------+---------------+------------------+---------+--------+--------+--------+----------------------+-------+-------------------+------+------+------------+------------+--------+-------------------+---------+---+-------+------------------+---+--------+---+--------+-------+-------+------------+--------------+----------------+-----+--------+------------------+--------------+---------+----------------------+-------------------------+-----------------+--------------------+-----------------+----------------------+-------------------+------+------------+-----+------------------------+-----------+-----------+-----+----------------+-------------------------+---------------+---------------+---------------+---------------+---------------+---------------+---------+-----------+----------------------+--------------+-------------+---------+----------------+--------+---------+------------+-------+------------+------------+------------------+--------------------+-------------------------+---+------------+----------+-------------+------------------+--------------------+------+\n",
            "only showing top 5 rows\n",
            "\n"
          ]
        }
      ],
      "source": [
        "df_diabete_hist = read_data(\"/content/gdrive/My Drive/Dataset/VisitsLong.txt\")\n",
        "df_diabete_hist.show(5)"
      ]
    },
    {
      "cell_type": "code",
      "execution_count": 8,
      "metadata": {
        "colab": {
          "base_uri": "https://localhost:8080/"
        },
        "id": "bzBDy-o67-dp",
        "outputId": "740b64b3-bf42-4d86-8401-5c42302eab17"
      },
      "outputs": [
        {
          "output_type": "stream",
          "name": "stdout",
          "text": [
            "+----+----------------+----------+--------------------+--------------------+--------------------+--------------------+--------------------+--------------------+--------------------+---------------+--------------+\n",
            "|PtID|MedCondDiagDtUnk|MedCondTrt|           MCLLTReal|               MCLLT|               MCHLT|              MCHLGT|          MCPrefTerm|               MCSOC|           MCLLTType|        MCGroup|medCondDiagAge|\n",
            "+----+----------------+----------+--------------------+--------------------+--------------------+--------------------+--------------------+--------------------+--------------------+---------------+--------------+\n",
            "|   1|                |          |        Hypertension|        Hypertension|Vascular hyperten...|Vascular hyperten...|        Hypertension|  Vascular disorders|Cardiovascular - ...| Cardiovascular|              |\n",
            "|   1|               1|   Unknown|Preproliferative ...|Preproliferative ...|   Retinopathies NEC|Retina, choroid a...|Diabetic retinopathy|       Eye disorders|                    |         Retina|              |\n",
            "|   1|               1|   Unknown|       Pain in ankle|       Pain in ankle|Joint related sig...|     Joint disorders|          Arthralgia|Musculoskeletal a...|                  NA|Musculoskeletal|              |\n",
            "|   1|               1|   Unknown|            Leg pain|            Leg pain|Musculoskeletal a...|Musculoskeletal a...|   Pain in extremity|Musculoskeletal a...|                    |Musculoskeletal|              |\n",
            "|   1|               1|   Unknown|         Anaphylaxis|         Anaphylaxis|Anaphylactic resp...| Allergic conditions|Anaphylactic reac...|Immune system dis...|                    |               |              |\n",
            "+----+----------------+----------+--------------------+--------------------+--------------------+--------------------+--------------------+--------------------+--------------------+---------------+--------------+\n",
            "only showing top 5 rows\n",
            "\n"
          ]
        }
      ],
      "source": [
        "df_medical_cond = read_data(\"/content/gdrive/My Drive/Dataset/MedCondLong.txt\")\n",
        "df_medical_cond.show(5)"
      ]
    },
    {
      "cell_type": "code",
      "execution_count": 9,
      "metadata": {
        "colab": {
          "base_uri": "https://localhost:8080/"
        },
        "id": "yukUURU_8lKY",
        "outputId": "816d2055-934f-4aa2-ec04-212312303c4c"
      },
      "outputs": [
        {
          "output_type": "stream",
          "name": "stdout",
          "text": [
            "+----+----------+-----------+-----------+-----------+----------+--------------------+------+-----------+----------+\n",
            "|PtID|Indication|MedStartCat|    MedDose|MedStartUnk|MedStopUnk|            DrugName| RXCUI|MedStartAge|MedStopAge|\n",
            "+----+----------+-----------+-----------+-----------+----------+--------------------+------+-----------+----------+\n",
            "|   1|          |           |100 mg/5 mL|          1|          |     Cromolyn Sodium|  3538|           |          |\n",
            "|   1|          |           |      20 mg|          1|          |          Famotidine|  4278|           |          |\n",
            "|   1|          |           |      25 mg|          1|          |Hydroxyzine Hydro...|154987|           |          |\n",
            "|   1|          |           |       5 mg|           |         1|          Lisinopril| 29046|         41|          |\n",
            "|   1|          |           |      20 MG|          1|          |          Omeprazole|  7646|           |          |\n",
            "+----+----------+-----------+-----------+-----------+----------+--------------------+------+-----------+----------+\n",
            "only showing top 5 rows\n",
            "\n"
          ]
        }
      ],
      "source": [
        "df_medication = read_data(\"/content/gdrive/My Drive/Dataset/MedsLong.txt\")\n",
        "df_medication.show(5)"
      ]
    },
    {
      "cell_type": "markdown",
      "metadata": {
        "id": "zc37x-6O-TH-"
      },
      "source": [
        "# Data Overview\n",
        "Gain an initial insights of data"
      ]
    },
    {
      "cell_type": "code",
      "execution_count": 10,
      "metadata": {
        "id": "v3eMxSHr-Sng"
      },
      "outputs": [],
      "source": [
        "def data_overview(df, show_unique = 1):\n",
        "    \"\"\"\n",
        "    Descriptive statistics of data\n",
        "    Input: dataset\n",
        "    Output: data summary\n",
        "    \"\"\"\n",
        "    print('Rows number:', df.count())\n",
        "    print('Columns number:', len(df.columns))\n",
        "    print('Missing values:', df.select([count(when(isnull(c), c)).alias(c) for c in df.columns]).\\\n",
        "                        toPandas().sum().sum())\n",
        "    print('Info:')\n",
        "    df.printSchema()\n",
        "    if show_unique:\n",
        "      print('Unique values:')\n",
        "      for c in df.columns:\n",
        "          print('{:15}: '.format(c), df.select(c).distinct().count(), '\\t', [row[c] for row in df.select(c).distinct().collect()[:10]])"
      ]
    },
    {
      "cell_type": "code",
      "execution_count": 11,
      "metadata": {
        "colab": {
          "base_uri": "https://localhost:8080/"
        },
        "id": "6K4KfaCY_Sin",
        "outputId": "2c00dba5-bb45-4692-a3e4-b4b2baff2df2"
      },
      "outputs": [
        {
          "output_type": "stream",
          "name": "stdout",
          "text": [
            "Rows number: 134014\n",
            "Columns number: 4\n",
            "Missing values: 0\n",
            "Info:\n",
            "root\n",
            " |-- PtID: string (nullable = true)\n",
            " |-- Method: string (nullable = true)\n",
            " |-- HbA1c: string (nullable = true)\n",
            " |-- HbA1cImputeDtMnC: string (nullable = true)\n",
            "\n"
          ]
        }
      ],
      "source": [
        "data_overview(df_test_result, show_unique = 0)"
      ]
    },
    {
      "cell_type": "code",
      "execution_count": 12,
      "metadata": {
        "colab": {
          "base_uri": "https://localhost:8080/"
        },
        "id": "TourQ_TWARpB",
        "outputId": "08085c9d-69b9-4649-dd58-84e6b631b76b"
      },
      "outputs": [
        {
          "output_type": "stream",
          "name": "stdout",
          "text": [
            "Rows number: 140461\n",
            "Columns number: 98\n",
            "Missing values: 0\n",
            "Info:\n",
            "root\n",
            " |-- PtID: string (nullable = true)\n",
            " |-- Visit: string (nullable = true)\n",
            " |-- ExamDtMnC: string (nullable = true)\n",
            " |-- ageConsent: string (nullable = true)\n",
            " |-- Pt_Gender: string (nullable = true)\n",
            " |-- Pt_PumpManuf: string (nullable = true)\n",
            " |-- Pt_PumpModel: string (nullable = true)\n",
            " |-- Pt_CGMUseNumDays: string (nullable = true)\n",
            " |-- Pt_InsPriv: string (nullable = true)\n",
            " |-- Pt_InsSingleService: string (nullable = true)\n",
            " |-- Pt_InsNoCoverage: string (nullable = true)\n",
            " |-- Pt_InsUnknown: string (nullable = true)\n",
            " |-- Pt_MaritalStatus: string (nullable = true)\n",
            " |-- Pt_ImmBioFamT1D: string (nullable = true)\n",
            " |-- Pt_FatherT1D: string (nullable = true)\n",
            " |-- Pt_MotherT1D: string (nullable = true)\n",
            " |-- Pt_SiblingT1D: string (nullable = true)\n",
            " |-- Pt_ChildT1D: string (nullable = true)\n",
            " |-- Pt_GrandchildT1D: string (nullable = true)\n",
            " |-- Pt_GrandparentT1D: string (nullable = true)\n",
            " |-- Pt_ExtBioFamT1D: string (nullable = true)\n",
            " |-- Pt_raceEthNew: string (nullable = true)\n",
            " |-- HeightUnk: string (nullable = true)\n",
            " |-- BldPrSys: string (nullable = true)\n",
            " |-- BldPrDia: string (nullable = true)\n",
            " |-- BldPrUnk: string (nullable = true)\n",
            " |-- SMBGperDayPtMeterCombo: string (nullable = true)\n",
            " |-- CGMUsed: string (nullable = true)\n",
            " |-- AlbuminuriaStatus: string (nullable = true)\n",
            " |-- ACEARB: string (nullable = true)\n",
            " |-- InsUnk: string (nullable = true)\n",
            " |-- InsNotTaking: string (nullable = true)\n",
            " |-- WeightKg: string (nullable = true)\n",
            " |-- HeightCm: string (nullable = true)\n",
            " |-- LipidsFastingStatus: string (nullable = true)\n",
            " |-- DirectLDL: string (nullable = true)\n",
            " |-- age: string (nullable = true)\n",
            " |-- diabDur: string (nullable = true)\n",
            " |-- TotalDailyInsPerKg: string (nullable = true)\n",
            " |-- LDL: string (nullable = true)\n",
            " |-- LDLUnits: string (nullable = true)\n",
            " |-- HDL: string (nullable = true)\n",
            " |-- HDLUnits: string (nullable = true)\n",
            " |-- TotChol: string (nullable = true)\n",
            " |-- Triglyc: string (nullable = true)\n",
            " |-- TriglycUnits: string (nullable = true)\n",
            " |-- CollectionType: string (nullable = true)\n",
            " |-- BloodTstNotAvail: string (nullable = true)\n",
            " |-- BUN: string (nullable = true)\n",
            " |-- BUNUnits: string (nullable = true)\n",
            " |-- AlbCreatRat_mggNew: string (nullable = true)\n",
            " |-- PregInPastYear: string (nullable = true)\n",
            " |-- InjMethod: string (nullable = true)\n",
            " |-- UnitsInsBasalOrLongAct: string (nullable = true)\n",
            " |-- UnitsInsBasalOrLongActUnk: string (nullable = true)\n",
            " |-- BGTestAvgNumMeter: string (nullable = true)\n",
            " |-- BGTestMetDatNotAvail: string (nullable = true)\n",
            " |-- BGTestAvgNumPtRep: string (nullable = true)\n",
            " |-- BGTestPtRepDatNotAvail: string (nullable = true)\n",
            " |-- CGMUsedDevRschStudy: string (nullable = true)\n",
            " |-- NoExam: string (nullable = true)\n",
            " |-- GFRIsBelow60: string (nullable = true)\n",
            " |-- TSH: string (nullable = true)\n",
            " |-- Pt_InsulinDeliveryMethod: string (nullable = true)\n",
            " |-- Pt_CGMManuf: string (nullable = true)\n",
            " |-- Pt_CGMModel: string (nullable = true)\n",
            " |-- HbA1c: string (nullable = true)\n",
            " |-- AutonomicNeuroCl: string (nullable = true)\n",
            " |-- SMBGperDayPtMeterComboCat: string (nullable = true)\n",
            " |-- InsulinUsedNew1: string (nullable = true)\n",
            " |-- InsulinUsedNew2: string (nullable = true)\n",
            " |-- InsulinUsedNew3: string (nullable = true)\n",
            " |-- InsulinUsedNew4: string (nullable = true)\n",
            " |-- InsulinUsedNew5: string (nullable = true)\n",
            " |-- InsulinUsedNew6: string (nullable = true)\n",
            " |-- Pt_InsGov: string (nullable = true)\n",
            " |-- PregAtVisit: string (nullable = true)\n",
            " |-- NumPumpBolusOrShortAct: string (nullable = true)\n",
            " |-- isletCellTrans: string (nullable = true)\n",
            " |-- pancreasTrans: string (nullable = true)\n",
            " |-- WeightUnk: string (nullable = true)\n",
            " |-- HbA1cImputeDtMnC: string (nullable = true)\n",
            " |-- Pt_SHFlg: string (nullable = true)\n",
            " |-- Pt_DKAFlg: string (nullable = true)\n",
            " |-- bmi: string (nullable = true)\n",
            " |-- bmiPerc: string (nullable = true)\n",
            " |-- bmiZscore: string (nullable = true)\n",
            " |-- Pt_SmokeCurr: string (nullable = true)\n",
            " |-- Pt_EduLevel: string (nullable = true)\n",
            " |-- Pt_AnnualInc: string (nullable = true)\n",
            " |-- NumPumpBolusOrShortActUnk: string (nullable = true)\n",
            " |-- GFR: string (nullable = true)\n",
            " |-- diagAgeCombo: string (nullable = true)\n",
            " |-- Pt_A1cGoal: string (nullable = true)\n",
            " |-- Pt_A1cGoalLev: string (nullable = true)\n",
            " |-- Pt_A1cGoalLevelYr5: string (nullable = true)\n",
            " |-- Pt_A1cGoalLevelDsYr5: string (nullable = true)\n",
            " |-- SiteID: string (nullable = true)\n",
            "\n"
          ]
        }
      ],
      "source": [
        "data_overview(df_diabete_hist, show_unique = 0)"
      ]
    },
    {
      "cell_type": "code",
      "execution_count": 13,
      "metadata": {
        "colab": {
          "base_uri": "https://localhost:8080/"
        },
        "id": "uPv2C-5gDIVA",
        "outputId": "5f1c634f-3046-4612-dc24-37d050b51870"
      },
      "outputs": [
        {
          "output_type": "stream",
          "name": "stdout",
          "text": [
            "Rows number: 96782\n",
            "Columns number: 12\n",
            "Missing values: 0\n",
            "Info:\n",
            "root\n",
            " |-- PtID: string (nullable = true)\n",
            " |-- MedCondDiagDtUnk: string (nullable = true)\n",
            " |-- MedCondTrt: string (nullable = true)\n",
            " |-- MCLLTReal: string (nullable = true)\n",
            " |-- MCLLT: string (nullable = true)\n",
            " |-- MCHLT: string (nullable = true)\n",
            " |-- MCHLGT: string (nullable = true)\n",
            " |-- MCPrefTerm: string (nullable = true)\n",
            " |-- MCSOC: string (nullable = true)\n",
            " |-- MCLLTType: string (nullable = true)\n",
            " |-- MCGroup: string (nullable = true)\n",
            " |-- medCondDiagAge: string (nullable = true)\n",
            "\n"
          ]
        }
      ],
      "source": [
        "data_overview(df_medical_cond, show_unique = 0)"
      ]
    },
    {
      "cell_type": "code",
      "execution_count": 14,
      "metadata": {
        "colab": {
          "base_uri": "https://localhost:8080/"
        },
        "id": "Yeqpx6ptDQHa",
        "outputId": "e32bd25f-507a-44d2-b395-4dfd63523229"
      },
      "outputs": [
        {
          "output_type": "stream",
          "name": "stdout",
          "text": [
            "Rows number: 131519\n",
            "Columns number: 10\n",
            "Missing values: 0\n",
            "Info:\n",
            "root\n",
            " |-- PtID: string (nullable = true)\n",
            " |-- Indication: string (nullable = true)\n",
            " |-- MedStartCat: string (nullable = true)\n",
            " |-- MedDose: string (nullable = true)\n",
            " |-- MedStartUnk: string (nullable = true)\n",
            " |-- MedStopUnk: string (nullable = true)\n",
            " |-- DrugName: string (nullable = true)\n",
            " |-- RXCUI: string (nullable = true)\n",
            " |-- MedStartAge: string (nullable = true)\n",
            " |-- MedStopAge: string (nullable = true)\n",
            "\n"
          ]
        }
      ],
      "source": [
        "data_overview(df_medication, show_unique = 0)"
      ]
    },
    {
      "cell_type": "markdown",
      "metadata": {
        "id": "y8Uo0BWODihI"
      },
      "source": [
        "# Data Preprocess\n",
        "## Change format\n",
        "We found that the initial read-in data formats are all strings, and we will manually adjust the data formats."
      ]
    },
    {
      "cell_type": "code",
      "execution_count": 15,
      "metadata": {
        "colab": {
          "base_uri": "https://localhost:8080/"
        },
        "id": "I3vDarS9DhZr",
        "outputId": "36e59c99-76aa-4c4d-f7ac-53b1fb512832"
      },
      "outputs": [
        {
          "output_type": "stream",
          "name": "stdout",
          "text": [
            "Rows number: 134014\n",
            "Columns number: 4\n",
            "Missing values: 17399\n",
            "Info:\n",
            "root\n",
            " |-- PtID: integer (nullable = true)\n",
            " |-- Method: string (nullable = true)\n",
            " |-- HbA1c: float (nullable = true)\n",
            " |-- HbA1cImputeDtMnC: float (nullable = true)\n",
            "\n",
            "Unique values:\n",
            "PtID           :  33541 \t [10206, 102793, 103011, 10362, 10623, 10817, 1088, 11033, 11141, 11317]\n",
            "Method         :  6 \t ['DCA', 'Unknown', 'Other POC', '', 'Lab', 'Afinion']\n",
            "HbA1c          :  139 \t [9.100000381469727, 9.399999618530273, 6.900000095367432, 13.199999809265137, 11.300000190734863, 15.300000190734863, 15.100000381469727, 16.399999618530273, 9.0, 13.699999809265137]\n",
            "HbA1cImputeDtMnC:  3037 \t [4.613999843597412, 35.15399932861328, 16.332000732421875, 53.31100082397461, 3.319999933242798, 81.99199676513672, 9.859000205993652, 68.51499938964844, -47.667999267578125, 6.704999923706055]\n"
          ]
        }
      ],
      "source": [
        "df_test_result_rf = df_test_result.select(\n",
        "    col(\"PtID\").cast(\"int\"),\n",
        "    col(\"Method\").cast(\"string\"),\n",
        "    col(\"HbA1c\").cast(\"float\"),\n",
        "    col(\"HbA1cImputeDtMnC\").cast(\"float\")\n",
        ")\n",
        "data_overview(df_test_result_rf)"
      ]
    },
    {
      "cell_type": "code",
      "execution_count": 16,
      "metadata": {
        "colab": {
          "base_uri": "https://localhost:8080/"
        },
        "id": "EE7_chfvFFXI",
        "outputId": "e81900e4-91c8-47ea-89e3-06c0157c0cac"
      },
      "outputs": [
        {
          "output_type": "stream",
          "name": "stdout",
          "text": [
            "Rows number: 140461\n",
            "Columns number: 97\n",
            "Missing values: 3948317\n",
            "Info:\n",
            "root\n",
            " |-- PtID: integer (nullable = true)\n",
            " |-- Visit: string (nullable = true)\n",
            " |-- ExamDtMnC: float (nullable = true)\n",
            " |-- Pt_Gender: string (nullable = true)\n",
            " |-- Pt_PumpManuf: integer (nullable = true)\n",
            " |-- Pt_PumpModel: string (nullable = true)\n",
            " |-- Pt_CGMUseNumDays: float (nullable = true)\n",
            " |-- Pt_InsPriv: integer (nullable = true)\n",
            " |-- Pt_InsSingleService: integer (nullable = true)\n",
            " |-- Pt_InsNoCoverage: integer (nullable = true)\n",
            " |-- Pt_InsUnknown: integer (nullable = true)\n",
            " |-- Pt_MaritalStatus: string (nullable = true)\n",
            " |-- Pt_ImmBioFamT1D: string (nullable = true)\n",
            " |-- Pt_FatherT1D: integer (nullable = true)\n",
            " |-- Pt_MotherT1D: integer (nullable = true)\n",
            " |-- Pt_SiblingT1D: integer (nullable = true)\n",
            " |-- Pt_ChildT1D: integer (nullable = true)\n",
            " |-- Pt_GrandchildT1D: integer (nullable = true)\n",
            " |-- Pt_GrandparentT1D: integer (nullable = true)\n",
            " |-- Pt_ExtBioFamT1D: string (nullable = true)\n",
            " |-- Pt_raceEthNew: string (nullable = true)\n",
            " |-- HeightUnk: integer (nullable = true)\n",
            " |-- BldPrSys: float (nullable = true)\n",
            " |-- BldPrDia: float (nullable = true)\n",
            " |-- BldPrUnk: integer (nullable = true)\n",
            " |-- SMBGperDayPtMeterCombo: float (nullable = true)\n",
            " |-- CGMUsed: string (nullable = true)\n",
            " |-- AlbuminuriaStatus: string (nullable = true)\n",
            " |-- ACEARB: string (nullable = true)\n",
            " |-- InsUnk: integer (nullable = true)\n",
            " |-- InsNotTaking: integer (nullable = true)\n",
            " |-- WeightKg: float (nullable = true)\n",
            " |-- HeightCm: float (nullable = true)\n",
            " |-- LipidsFastingStatus: string (nullable = true)\n",
            " |-- DirectLDL: integer (nullable = true)\n",
            " |-- age: integer (nullable = true)\n",
            " |-- diabDur: integer (nullable = true)\n",
            " |-- TotalDailyInsPerKg: float (nullable = true)\n",
            " |-- LDL: float (nullable = true)\n",
            " |-- LDLUnits: string (nullable = true)\n",
            " |-- HDL: float (nullable = true)\n",
            " |-- HDLUnits: string (nullable = true)\n",
            " |-- TotChol: float (nullable = true)\n",
            " |-- Triglyc: float (nullable = true)\n",
            " |-- TriglycUnits: string (nullable = true)\n",
            " |-- CollectionType: string (nullable = true)\n",
            " |-- BloodTstNotAvail: integer (nullable = true)\n",
            " |-- BUN: float (nullable = true)\n",
            " |-- BUNUnits: string (nullable = true)\n",
            " |-- AlbCreatRat_mggNew: float (nullable = true)\n",
            " |-- PregInPastYear: string (nullable = true)\n",
            " |-- InjMethod: string (nullable = true)\n",
            " |-- UnitsInsBasalOrLongAct: float (nullable = true)\n",
            " |-- UnitsInsBasalOrLongActUnk: integer (nullable = true)\n",
            " |-- BGTestAvgNumMeter: float (nullable = true)\n",
            " |-- BGTestMetDatNotAvail: integer (nullable = true)\n",
            " |-- BGTestAvgNumPtRep: float (nullable = true)\n",
            " |-- BGTestPtRepDatNotAvail: integer (nullable = true)\n",
            " |-- CGMUsedDevRschStudy: string (nullable = true)\n",
            " |-- NoExam: integer (nullable = true)\n",
            " |-- GFRIsBelow60: string (nullable = true)\n",
            " |-- TSH: float (nullable = true)\n",
            " |-- Pt_InsulinDeliveryMethod: string (nullable = true)\n",
            " |-- Pt_CGMManuf: string (nullable = true)\n",
            " |-- Pt_CGMModel: string (nullable = true)\n",
            " |-- HbA1c: float (nullable = true)\n",
            " |-- AutonomicNeuroCl: integer (nullable = true)\n",
            " |-- SMBGperDayPtMeterComboCat: string (nullable = true)\n",
            " |-- InsulinUsedNew1: string (nullable = true)\n",
            " |-- InsulinUsedNew2: string (nullable = true)\n",
            " |-- InsulinUsedNew3: string (nullable = true)\n",
            " |-- InsulinUsedNew4: string (nullable = true)\n",
            " |-- InsulinUsedNew5: string (nullable = true)\n",
            " |-- InsulinUsedNew6: string (nullable = true)\n",
            " |-- Pt_InsGov: integer (nullable = true)\n",
            " |-- PregAtVisit: string (nullable = true)\n",
            " |-- NumPumpBolusOrShortAct: integer (nullable = true)\n",
            " |-- isletCellTrans: string (nullable = true)\n",
            " |-- pancreasTrans: string (nullable = true)\n",
            " |-- WeightUnk: integer (nullable = true)\n",
            " |-- HbA1cImputeDtMnC: float (nullable = true)\n",
            " |-- Pt_SHFlg: integer (nullable = true)\n",
            " |-- Pt_DKAFlg: integer (nullable = true)\n",
            " |-- bmi: float (nullable = true)\n",
            " |-- bmiPerc: float (nullable = true)\n",
            " |-- bmiZscore: float (nullable = true)\n",
            " |-- Pt_SmokeCurr: string (nullable = true)\n",
            " |-- Pt_EduLevel: string (nullable = true)\n",
            " |-- Pt_AnnualInc: string (nullable = true)\n",
            " |-- NumPumpBolusOrShortActUnk: integer (nullable = true)\n",
            " |-- GFR: float (nullable = true)\n",
            " |-- diagAgeCombo: integer (nullable = true)\n",
            " |-- Pt_A1cGoal: string (nullable = true)\n",
            " |-- Pt_A1cGoalLev: float (nullable = true)\n",
            " |-- Pt_A1cGoalLevelYr5: string (nullable = true)\n",
            " |-- Pt_A1cGoalLevelDsYr5: string (nullable = true)\n",
            " |-- SiteID: integer (nullable = true)\n",
            "\n"
          ]
        }
      ],
      "source": [
        "df_diabete_hist_rf = df_diabete_hist.select(\n",
        "    col(\"PtID\").cast(\"int\"), col(\"Visit\").cast(\"string\"), col(\"ExamDtMnC\").cast(\"float\"), col(\"Pt_Gender\").cast(\"string\"),\n",
        "    col(\"Pt_PumpManuf\").cast(\"int\"), col(\"Pt_PumpModel\").cast(\"string\"), col(\"Pt_CGMUseNumDays\").cast(\"float\"),\n",
        "    col(\"Pt_InsPriv\").cast(\"int\"), col(\"Pt_InsSingleService\").cast(\"int\"), col(\"Pt_InsNoCoverage\").cast(\"int\"), col(\"Pt_InsUnknown\").cast(\"int\"),\n",
        "    col(\"Pt_MaritalStatus\").cast(\"string\"), col(\"Pt_ImmBioFamT1D\").cast(\"string\"), col(\"Pt_FatherT1D\").cast(\"int\"), col(\"Pt_MotherT1D\").cast(\"int\"),\n",
        "    col(\"Pt_SiblingT1D\").cast(\"int\"), col(\"Pt_ChildT1D\").cast(\"int\"), col(\"Pt_GrandchildT1D\").cast(\"int\"), col(\"Pt_GrandparentT1D\").cast(\"int\"),\n",
        "    col(\"Pt_ExtBioFamT1D\").cast(\"string\"), col(\"Pt_raceEthNew\").cast(\"string\"), col(\"HeightUnk\").cast(\"int\"), col(\"BldPrSys\").cast(\"float\"),\n",
        "    col(\"BldPrDia\").cast(\"float\"), col(\"BldPrUnk\").cast(\"int\"), col(\"SMBGperDayPtMeterCombo\").cast(\"float\"), col(\"CGMUsed\").cast(\"string\"),\n",
        "    col(\"AlbuminuriaStatus\").cast(\"string\"), col(\"ACEARB\").cast(\"string\"), col(\"InsUnk\").cast(\"int\"), col(\"InsNotTaking\").cast(\"int\"),\n",
        "    col(\"WeightKg\").cast(\"float\"), col(\"HeightCm\").cast(\"float\"), col(\"LipidsFastingStatus\").cast(\"string\"), col(\"DirectLDL\").cast(\"int\"),\n",
        "    col(\"age\").cast(\"int\"), col(\"diabDur\").cast(\"int\"), col(\"TotalDailyInsPerKg\").cast(\"float\"), col(\"LDL\").cast(\"float\"),\n",
        "    col(\"LDLUnits\").cast(\"string\"), col(\"HDL\").cast(\"float\"), col(\"HDLUnits\").cast(\"string\"), col(\"TotChol\").cast(\"float\"),\n",
        "    col(\"Triglyc\").cast(\"float\"), col(\"TriglycUnits\").cast(\"string\"), col(\"CollectionType\").cast(\"string\"), col(\"BloodTstNotAvail\").cast(\"int\"),\n",
        "    col(\"BUN\").cast(\"float\"), col(\"BUNUnits\").cast(\"string\"), col(\"AlbCreatRat_mggNew\").cast(\"float\"), col(\"PregInPastYear\").cast(\"string\"),\n",
        "    col(\"InjMethod\").cast(\"string\"), col(\"UnitsInsBasalOrLongAct\").cast(\"float\"), col(\"UnitsInsBasalOrLongActUnk\").cast(\"int\"), col(\"BGTestAvgNumMeter\").cast(\"float\"),\n",
        "    col(\"BGTestMetDatNotAvail\").cast(\"int\"), col(\"BGTestAvgNumPtRep\").cast(\"float\"), col(\"BGTestPtRepDatNotAvail\").cast(\"int\"), col(\"CGMUsedDevRschStudy\").cast(\"string\"),\n",
        "    col(\"NoExam\").cast(\"int\"), col(\"GFRIsBelow60\").cast(\"string\"), col(\"TSH\").cast(\"float\"), col(\"Pt_InsulinDeliveryMethod\").cast(\"string\"),\n",
        "    col(\"Pt_CGMManuf\").cast(\"string\"), col(\"Pt_CGMModel\").cast(\"string\"), col(\"HbA1c\").cast(\"float\"), col(\"AutonomicNeuroCl\").cast(\"int\"),\n",
        "    col(\"SMBGperDayPtMeterComboCat\").cast(\"string\"), col(\"InsulinUsedNew1\").cast(\"string\"), col(\"InsulinUsedNew2\").cast(\"string\"), col(\"InsulinUsedNew3\").cast(\"string\"),\n",
        "    col(\"InsulinUsedNew4\").cast(\"string\"), col(\"InsulinUsedNew5\").cast(\"string\"), col(\"InsulinUsedNew6\").cast(\"string\"), col(\"Pt_InsGov\").cast(\"int\"),\n",
        "    col(\"PregAtVisit\").cast(\"string\"), col(\"NumPumpBolusOrShortAct\").cast(\"int\"), col(\"isletCellTrans\").cast(\"string\"), col(\"pancreasTrans\").cast(\"string\"),\n",
        "    col(\"WeightUnk\").cast(\"int\"), col(\"HbA1cImputeDtMnC\").cast(\"float\"), col(\"Pt_SHFlg\").cast(\"int\"), col(\"Pt_DKAFlg\").cast(\"int\"),\n",
        "    col(\"bmi\").cast(\"float\"), col(\"bmiPerc\").cast(\"float\"), col(\"bmiZscore\").cast(\"float\"), col(\"Pt_SmokeCurr\").cast(\"string\"),\n",
        "    col(\"Pt_EduLevel\").cast(\"string\"), col(\"Pt_AnnualInc\").cast(\"string\"), col(\"NumPumpBolusOrShortActUnk\").cast(\"int\"), col(\"GFR\").cast(\"float\"),\n",
        "    col(\"diagAgeCombo\").cast(\"int\"), col(\"Pt_A1cGoal\").cast(\"string\"), col(\"Pt_A1cGoalLev\").cast(\"float\"), col(\"Pt_A1cGoalLevelYr5\").cast(\"string\"),\n",
        "    col(\"Pt_A1cGoalLevelDsYr5\").cast(\"string\"), col(\"SiteID\").cast(\"int\")\n",
        ")\n",
        "\n",
        "data_overview(df_diabete_hist_rf, show_unique = 0)"
      ]
    },
    {
      "cell_type": "code",
      "execution_count": 17,
      "metadata": {
        "colab": {
          "base_uri": "https://localhost:8080/"
        },
        "id": "W-9l0ybzJ_vo",
        "outputId": "7f49e845-80b9-454d-e29a-d1db3e060ae5"
      },
      "outputs": [
        {
          "output_type": "stream",
          "name": "stdout",
          "text": [
            "Rows number: 96782\n",
            "Columns number: 12\n",
            "Missing values: 126633\n",
            "Info:\n",
            "root\n",
            " |-- PtID: integer (nullable = true)\n",
            " |-- MedCondDiagDtUnk: integer (nullable = true)\n",
            " |-- MedCondTrt: string (nullable = true)\n",
            " |-- MCLLTReal: string (nullable = true)\n",
            " |-- MCLLT: string (nullable = true)\n",
            " |-- MCHLT: string (nullable = true)\n",
            " |-- MCHLGT: string (nullable = true)\n",
            " |-- MCPrefTerm: string (nullable = true)\n",
            " |-- MCSOC: string (nullable = true)\n",
            " |-- MCLLTType: string (nullable = true)\n",
            " |-- MCGroup: string (nullable = true)\n",
            " |-- medCondDiagAge: integer (nullable = true)\n",
            "\n",
            "Unique values:\n",
            "PtID           :  24750 \t [10206, 102793, 10623, 11033, 11141, 11458, 11748, 11858, 12027, 12046]\n",
            "MedCondDiagDtUnk:  2 \t [None, 1]\n",
            "MedCondTrt     :  8 \t ['None', 'Unknown', 'Other', 'Medication', 'Medication and Surgery', 'Surgery', '', 'Dietary Management']\n",
            "MCLLTReal      :  1567 \t ['Enlarged thyroid', 'Drug abuse', 'Secondary cataract', 'Nightmares', 'Keratopathy NOS', 'Charcot arthropathy', 'Arteriovenous fistula', 'Impetigo', 'Retinal arterial branch occlusion', 'Pinguecula']\n",
            "MCLLT          :  1576 \t ['Enlarged thyroid', 'Drug abuse', 'Secondary cataract', 'Nightmares', 'Keratopathy NOS', 'Charcot arthropathy', 'Arteriovenous fistula', 'Impetigo', 'Pinguecula', 'Axillary lymphadenitis']\n",
            "MCHLT          :  701 \t ['Skin and subcutaneous tissue fungal infections', 'Bipolar disorders', 'Blood gas and acid base analyses', 'Mineral and electrolyte analyses', 'Peripheral neuropathies NEC', 'Adjustment disorders', 'Corneal infections, oedemas and inflammations', 'Chronic polyneuropathies', 'Elevated cholesterol', 'Lens therapeutic procedures']\n",
            "MCHLGT         :  264 \t ['Depressed mood disorders and disturbances', 'Hepatic and hepatobiliary disorders', 'Seizures (incl subtypes)', 'Haemoglobinopathies', 'Respiratory and mediastinal neoplasms malignant and unspecified', 'Hepatobiliary neoplasms malignant and unspecified', 'Bacterial infectious disorders', 'Foetal complications', 'Musculoskeletal and connective tissue disorders NEC', 'Renal and urinary tract therapeutic procedures']\n",
            "MCPrefTerm     :  1332 \t ['Drug abuse', 'Pulmonary oedema', 'Arteriovenous fistula', 'Impetigo', 'Pinguecula', 'Hypoparathyroidism', 'Acute coronary syndrome', 'Urinary tract infection', 'Diabetic ulcer', 'Heterophoria']\n",
            "MCSOC          :  26 \t ['Reproductive system and breast disorders', 'Endocrine disorders', 'Immune system disorders', 'Investigations', 'Blood and lymphatic system disorders', 'Neoplasms benign, malignant and unspecified (incl cysts and polyps)', 'Infections and infestations', 'Ear and labyrinth disorders', 'Skin and subcutaneous tissue disorders', 'Respiratory, thoracic and mediastinal disorders']\n",
            "MCLLTType      :  15 \t ['Cardiovascular - Arrhythmia', 'Cardiovascular - Cardiac-other', 'NA', 'Cardiovascular - General', 'Cardiovascular - Hypertension', 'Cardiovascular - Cardiac valve', 'Kidney', 'Cardiovascular - Venous disease', 'Cardiovascular - Cardiomyopathy', 'Cardiovascular - Peripheral vascular disease']\n",
            "MCGroup        :  41 \t ['ENT', 'Skin', 'Anterior chamber', 'Neurological', 'Optic nerve', 'Endocrine', 'Strabismus', 'Vitreous', 'Cornea', 'Miscellaneous-systemic']\n",
            "medCondDiagAge :  92 \t [31, 85, 65, 53, 78, 34, 81, 28, 76, 26]\n"
          ]
        }
      ],
      "source": [
        "df_medical_cond_rf = df_medical_cond.select(\n",
        "    col(\"PtID\").cast(\"int\"), col(\"MedCondDiagDtUnk\").cast(\"int\"), col(\"MedCondTrt\").cast(\"string\"), col(\"MCLLTReal\").cast(\"string\"),\n",
        "    col(\"MCLLT\").cast(\"string\"), col(\"MCHLT\").cast(\"string\"), col(\"MCHLGT\").cast(\"string\"), col(\"MCPrefTerm\").cast(\"string\"),\n",
        "    col(\"MCSOC\").cast(\"string\"), col(\"MCLLTType\").cast(\"string\"), col(\"MCGroup\").cast(\"string\"), col(\"medCondDiagAge\").cast(\"int\"),\n",
        ")\n",
        "data_overview(df_medical_cond_rf)"
      ]
    },
    {
      "cell_type": "code",
      "execution_count": 18,
      "metadata": {
        "colab": {
          "base_uri": "https://localhost:8080/"
        },
        "id": "RQgQsjyLKBLy",
        "outputId": "9354d6a8-753b-4a1c-dcd3-9b0fb8e0a8ec"
      },
      "outputs": [
        {
          "output_type": "stream",
          "name": "stdout",
          "text": [
            "Rows number: 131519\n",
            "Columns number: 10\n",
            "Missing values: 393287\n",
            "Info:\n",
            "root\n",
            " |-- PtID: integer (nullable = true)\n",
            " |-- Indication: string (nullable = true)\n",
            " |-- MedStartCat: string (nullable = true)\n",
            " |-- MedDose: string (nullable = true)\n",
            " |-- MedStartUnk: integer (nullable = true)\n",
            " |-- MedStopUnk: integer (nullable = true)\n",
            " |-- DrugName: string (nullable = true)\n",
            " |-- RXCUI: string (nullable = true)\n",
            " |-- MedStartAge: integer (nullable = true)\n",
            " |-- MedStopAge: integer (nullable = true)\n",
            "\n",
            "Unique values:\n",
            "PtID           :  24582 \t [10206, 102793, 10362, 10623, 10817, 1088, 11033, 11141, 11317, 11458]\n",
            "Indication     :  4 \t ['Medical Condition', 'Unknown', 'Prevention', '']\n",
            "MedStartCat    :  6 \t ['1 - <5 years', 'Unknown', '>=10 years', '5 - <10 years', '', '< 1 year']\n",
            "MedDose        :  11226 \t ['1% external swab', '300mg', '1.25mg QW x 12 weeks', '500 mg every other night at bedtime', '20mg q d', '500 mg every 12 hours', '108 mcg', '30 mcg TID', '10 mg daily at HS', '1mg qd']\n",
            "MedStartUnk    :  2 \t [None, 1]\n",
            "MedStopUnk     :  2 \t [None, 1]\n",
            "DrugName       :  3677 \t ['Dulera', 'Prozac', 'Avapro', 'Ortho Novum', 'candesartan', 'Prograf', 'Primidone', 'Maxalt', 'Arava', 'Ocuvite']\n",
            "RXCUI          :  2705 \t ['115713', '710529', '285065', '227591', '645109', '541642', '203142', '700402', '744843', '4821']\n",
            "MedStartAge    :  91 \t [31, 85, 65, 53, 78, 34, 81, 28, 76, 26]\n",
            "MedStopAge     :  90 \t [31, 85, 65, 53, 78, 34, 81, 28, 76, 27]\n"
          ]
        }
      ],
      "source": [
        "df_medication_rf = df_medication.select(\n",
        "    col(\"PtID\").cast(\"int\"), col(\"Indication\").cast(\"string\"), col(\"MedStartCat\").cast(\"string\"), col(\"MedDose\").cast(\"string\"),\n",
        "    col(\"MedStartUnk\").cast(\"int\"), col(\"MedStopUnk\").cast(\"int\"), col(\"DrugName\").cast(\"string\"), col(\"RXCUI\").cast(\"string\"),\n",
        "    col(\"MedStartAge\").cast(\"int\"), col(\"MedStopAge\").cast(\"int\")\n",
        ")\n",
        "data_overview(df_medication_rf)"
      ]
    },
    {
      "cell_type": "markdown",
      "metadata": {
        "id": "U6CZAC8SOhz5"
      },
      "source": [
        "# Data Cleaning"
      ]
    },
    {
      "cell_type": "markdown",
      "metadata": {
        "id": "IzDIKmZrnXEs"
      },
      "source": [
        "![ERD.png](data:image/png;base64,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)"
      ]
    },
    {
      "cell_type": "markdown",
      "metadata": {
        "id": "StEIvfQEnbx0"
      },
      "source": [
        "Our database consists of four tables:\n",
        "\n",
        "\n",
        "*   Main table: VisitsLong (df_diabete_hist_rf): One record per subject per visit\n",
        "*   HbA1cLong (df_test_result_rf): One record per HbA1c measurement\n",
        "*   MedCondLong (df_medical_cond_rf): One record per medical condition recorded\n",
        "*   MedsLong (df_medication_rf): One record per medication recorded\n",
        "\n",
        "Since the same participant may visit multiple times, measure hba1c multiple times, have multiple medical histories and take multiple medications. All four forms are linked in a many-to-many format. \n",
        "\n",
        "**For HbA1cLong:**\n",
        "\n",
        "The method of measuring HbA1c is the only valuable feature among the four variables (as other 3 variables already exist in main table). To handle this, we first removed all records where the method is null and kept only those with a valid method. However, we noticed that the same HbA1c and HbA1cImputeDtMnC values could correspond to different methods in the same participant. Therefore, we chose to select the first method in the data to ensure consistency. This resulted in a table that includes Ptid, HbA1c, and HbA1cImputeDtMnC corresponding to one method.\n",
        "\n",
        "Moreover, we found cases where the same patient has null values for HbA1cImputeDtMnC in this table, but not in the main table. This led to unmatched data, which we addressed by generating a sub-table using the method mentioned above. This allowed us to obtain a table that includes Ptid and HbA1c corresponding to the unique method and join the data that did not match in the first join. By doing so, we can ensure that we have a complete and accurate dataset for our analysis.\n",
        "\n",
        "**For MedCondLong & MedsLong:**\n",
        "\n",
        "Since each participant at a certain age may have different medical conditions and medication records, these records can be considered individual features of the participant. To incorporate these features into our analysis, we need to transform the original long table into a wide table that links each participant's medical records and medication records to the main table by the participant ID and corresponding age. By doing so, we can analyze the data at the individual level and better understand the relationship between a participant's medical condition, medication use, and risk of hypoglycemic events.\n",
        "\n",
        "Due to the large number of medical conditions and medications involved, breaking down the information into individual features would result in very large sparse matrices, which we do not have enough data to support. Therefore, we chose to retain only the McGroup and MedCondTrt variables to show the medical conditions presented and the treatments received by the participants. After discussion with prof GS over zoom, we are subsetting medications for 30 most frequent medications instead of having a sparse matrix. Some medications potentially contribute to hypoglycemic events. However, we will include this in the next iteration. Additionally, in future iterations, we will perform dimensionality reduction by grouping drugs into appropriate classes e.g. ibuprofen, acetaminophen, naproxen will all be encoded as 'NSAIDs'.\n",
        "\n",
        "By doing so, we can still explore the relationship between these variables and the presence of adverse events while avoiding the issues associated with sparse matrices. This approach allows us to focus on the most important features without sacrificing the quality of our analysis."
      ]
    },
    {
      "cell_type": "code",
      "execution_count": 19,
      "metadata": {
        "id": "PsdVkDUBOoK3"
      },
      "outputs": [],
      "source": [
        "# Missing data check\n",
        "def data_missing(df):\n",
        "  \"\"\"\n",
        "    Print missing data count and percentage\n",
        "    Input: dataset\n",
        "    Output: missing data summary\n",
        "  \"\"\"\n",
        "  # Count the number of null values in each column\n",
        "  total_rows = df.count()\n",
        "  null_counts = [(c, df.filter(df[c].isNull()).count()) for c in df.columns]\n",
        "  \n",
        "  # Print the null value count for each column\n",
        "  for c, count in null_counts:\n",
        "    percentage = round((count/total_rows)*100, 2)\n",
        "    print(f\"{c}: {count} ({percentage}%)\")"
      ]
    },
    {
      "cell_type": "markdown",
      "metadata": {
        "id": "pJbQZCvNS8Bp"
      },
      "source": [
        "### HbA1cLong: One record per HbA1c measurement"
      ]
    },
    {
      "cell_type": "code",
      "execution_count": 20,
      "metadata": {
        "colab": {
          "base_uri": "https://localhost:8080/"
        },
        "id": "-GAPS6mZdOVN",
        "outputId": "cb41e22a-204e-442f-e965-e08d809c0b05"
      },
      "outputs": [
        {
          "output_type": "stream",
          "name": "stdout",
          "text": [
            "PtID: 0 (0.0%)\n",
            "Method: 1414 (1.06%)\n",
            "HbA1c: 0 (0.0%)\n",
            "HbA1cImputeDtMnC: 16746 (12.57%)\n"
          ]
        }
      ],
      "source": [
        "# Check missing data\n",
        "df_test_result_wo_na = df_test_result_rf.select([when(col(c) == '', None).otherwise(col(c)).alias(c) for c in df_test_result_rf.columns]).dropDuplicates()\n",
        "data_missing(df_test_result_wo_na)"
      ]
    },
    {
      "cell_type": "code",
      "execution_count": 21,
      "metadata": {
        "colab": {
          "base_uri": "https://localhost:8080/"
        },
        "id": "PpVkH9_DQyKy",
        "outputId": "eb98b6b7-b6df-4be2-cde6-95358d13fb71"
      },
      "outputs": [
        {
          "output_type": "stream",
          "name": "stdout",
          "text": [
            "Rows number: 131801\n",
            "Columns number: 4\n",
            "Missing values: 16340\n",
            "Info:\n",
            "root\n",
            " |-- PtID: integer (nullable = true)\n",
            " |-- HbA1c: float (nullable = true)\n",
            " |-- HbA1cImputeDtMnC: float (nullable = true)\n",
            " |-- Method: string (nullable = true)\n",
            "\n"
          ]
        }
      ],
      "source": [
        "# Drop row with empty method\n",
        "df_test_result_wo_na = df_test_result_wo_na.dropna(subset=['Method'])\n",
        "# Select the first method in the data to ensure consistency\n",
        "df_test_result_wo_na = df_test_result_wo_na.groupBy('PtID', 'HbA1c', 'HbA1cImputeDtMnC').agg(first('Method').alias('Method'))\n",
        "# Create subset to deal with special cases\n",
        "df_test_result_wo_na_subset = df_test_result_wo_na.groupBy('PtID', 'HbA1c').agg(first('Method').alias('Method'))\n",
        "data_overview(df_test_result_wo_na, show_unique=0)"
      ]
    },
    {
      "cell_type": "markdown",
      "metadata": {
        "id": "6PPD18ErTL2h"
      },
      "source": [
        "### VisitsLong: One record per subject per visit"
      ]
    },
    {
      "cell_type": "markdown",
      "metadata": {
        "id": "yxIk4A2aRR7N"
      },
      "source": [
        "Our main dataset, VisitsLong, contains the target variable Pt_SHFlg, which indicates whether a patient has experienced severe hypoglycemia events in the past 12 months. To build a model that predicts future severe hypoglycemia events, we need to select data where Visit = Enrollment1 as the feature variable and treat the Pt_SHFlg data for the same patient with Visit = Year 1 (1 year after enrollment) as the target variable. This way, we can use the feature variable to predict the target variable and determine whether a patient is at risk of experiencing severe hypoglycemia events in the future."
      ]
    },
    {
      "cell_type": "code",
      "execution_count": 22,
      "metadata": {
        "id": "zsyzGbWPSPP_"
      },
      "outputs": [],
      "source": [
        "# Drop data with null in target variable Pt_SHFlg and remain records with 'Enrollment1' and 'Year 1'\n",
        "df_diabete_hist_full_y = df_diabete_hist_rf.dropna(subset = ['Pt_SHFlg']).filter(df_diabete_hist_rf.Visit.isin(['Year 1', 'Enrollment1']))\n",
        "# Select patient with both 'Enrollment1' and 'Year 1' record\n",
        "concatenated_visits = df_diabete_hist_full_y.groupBy('PtID').agg(concat_ws(',', F.collect_list('Visit')).alias('ConcatenatedVisits'))\n",
        "split_visits = concatenated_visits.withColumn('VisitList', split('ConcatenatedVisits', ','))\n",
        "ptids = split_visits.filter(F.size('VisitList') > 1).select('PtID').rdd.flatMap(lambda x: x).collect()\n",
        "\n",
        "df_diabete_hist_full_y = df_diabete_hist_full_y.filter(F.col('PtID').isin(ptids))"
      ]
    },
    {
      "cell_type": "code",
      "execution_count": 23,
      "metadata": {
        "id": "huIYziKmUov0"
      },
      "outputs": [],
      "source": [
        "# Filter for records with Visit = Enrollment1\n",
        "enrollment1 = df_diabete_hist_full_y.filter(col(\"Visit\") == \"Enrollment1\").drop('Pt_SHFlg')\n",
        "# Join with Year 1 target variable on PtID\n",
        "df_diabete_hist = enrollment1.join(df_diabete_hist_full_y.filter(col(\"Visit\") == \"Year 1\").select('PtID', 'Pt_SHFlg'), on=[\"PtID\"], how=\"inner\")"
      ]
    },
    {
      "cell_type": "code",
      "execution_count": 24,
      "metadata": {
        "id": "_LvnPbQwS6Wu",
        "colab": {
          "base_uri": "https://localhost:8080/"
        },
        "outputId": "34ae2adc-51c8-447c-b14a-b7dc9db77916"
      },
      "outputs": [
        {
          "output_type": "stream",
          "name": "stdout",
          "text": [
            "PtID: 0 (0.0%)\n",
            "Visit: 0 (0.0%)\n",
            "ExamDtMnC: 0 (0.0%)\n",
            "Pt_Gender: 0 (0.0%)\n",
            "Pt_PumpManuf: 13002 (100.0%)\n",
            "Pt_PumpModel: 6295 (48.42%)\n",
            "Pt_CGMUseNumDays: 11894 (91.48%)\n",
            "Pt_InsPriv: 987 (7.59%)\n",
            "Pt_InsSingleService: 987 (7.59%)\n",
            "Pt_InsNoCoverage: 987 (7.59%)\n",
            "Pt_InsUnknown: 13002 (100.0%)\n",
            "Pt_MaritalStatus: 6084 (46.79%)\n",
            "Pt_ImmBioFamT1D: 0 (0.0%)\n",
            "Pt_FatherT1D: 12319 (94.75%)\n",
            "Pt_MotherT1D: 12652 (97.31%)\n",
            "Pt_SiblingT1D: 11901 (91.53%)\n",
            "Pt_ChildT1D: 12844 (98.78%)\n",
            "Pt_GrandchildT1D: 12977 (99.81%)\n",
            "Pt_GrandparentT1D: 11998 (92.28%)\n",
            "Pt_ExtBioFamT1D: 0 (0.0%)\n",
            "Pt_raceEthNew: 0 (0.0%)\n",
            "HeightUnk: 11715 (90.1%)\n",
            "BldPrSys: 485 (3.73%)\n",
            "BldPrDia: 485 (3.73%)\n",
            "BldPrUnk: 12517 (96.27%)\n",
            "SMBGperDayPtMeterCombo: 75 (0.58%)\n",
            "CGMUsed: 0 (0.0%)\n",
            "AlbuminuriaStatus: 0 (0.0%)\n",
            "ACEARB: 0 (0.0%)\n",
            "InsUnk: 12631 (97.15%)\n",
            "InsNotTaking: 12994 (99.94%)\n",
            "WeightKg: 1292 (9.94%)\n",
            "HeightCm: 1287 (9.9%)\n",
            "LipidsFastingStatus: 3333 (25.63%)\n",
            "DirectLDL: 12200 (93.83%)\n",
            "age: 0 (0.0%)\n",
            "diabDur: 0 (0.0%)\n",
            "TotalDailyInsPerKg: 1769 (13.61%)\n",
            "LDL: 4280 (32.92%)\n",
            "LDLUnits: 4280 (32.92%)\n",
            "HDL: 4414 (33.95%)\n",
            "HDLUnits: 4414 (33.95%)\n",
            "TotChol: 7255 (55.8%)\n",
            "Triglyc: 4642 (35.7%)\n",
            "TriglycUnits: 4642 (35.7%)\n",
            "CollectionType: 4780 (36.76%)\n",
            "BloodTstNotAvail: 9277 (71.35%)\n",
            "BUN: 4287 (32.97%)\n",
            "BUNUnits: 4287 (32.97%)\n",
            "AlbCreatRat_mggNew: 5046 (38.81%)\n",
            "PregInPastYear: 13002 (100.0%)\n",
            "InjMethod: 6559 (50.45%)\n",
            "UnitsInsBasalOrLongAct: 13002 (100.0%)\n",
            "UnitsInsBasalOrLongActUnk: 0 (0.0%)\n",
            "BGTestAvgNumMeter: 6282 (48.32%)\n",
            "BGTestMetDatNotAvail: 0 (0.0%)\n",
            "BGTestAvgNumPtRep: 165 (1.27%)\n",
            "BGTestPtRepDatNotAvail: 0 (0.0%)\n",
            "CGMUsedDevRschStudy: 13002 (100.0%)\n",
            "NoExam: 13002 (100.0%)\n",
            "GFRIsBelow60: 0 (0.0%)\n",
            "TSH: 13002 (100.0%)\n",
            "Pt_InsulinDeliveryMethod: 9 (0.07%)\n",
            "Pt_CGMManuf: 11822 (90.92%)\n",
            "Pt_CGMModel: 13002 (100.0%)\n",
            "HbA1c: 413 (3.18%)\n",
            "AutonomicNeuroCl: 12447 (95.73%)\n",
            "SMBGperDayPtMeterComboCat: 75 (0.58%)\n",
            "InsulinUsedNew1: 4447 (34.2%)\n",
            "InsulinUsedNew2: 9657 (74.27%)\n",
            "InsulinUsedNew3: 12793 (98.39%)\n",
            "InsulinUsedNew4: 12989 (99.9%)\n",
            "InsulinUsedNew5: 13002 (100.0%)\n",
            "InsulinUsedNew6: 13002 (100.0%)\n",
            "Pt_InsGov: 0 (0.0%)\n",
            "PregAtVisit: 9363 (72.01%)\n",
            "NumPumpBolusOrShortAct: 6829 (52.52%)\n",
            "isletCellTrans: 0 (0.0%)\n",
            "pancreasTrans: 0 (0.0%)\n",
            "WeightUnk: 0 (0.0%)\n",
            "HbA1cImputeDtMnC: 413 (3.18%)\n",
            "Pt_SHFlg: 0 (0.0%)\n",
            "Pt_DKAFlg: 7 (0.05%)\n",
            "bmi: 1323 (10.18%)\n",
            "bmiPerc: 4128 (31.75%)\n",
            "bmiZscore: 1328 (10.21%)\n",
            "Pt_SmokeCurr: 5895 (45.34%)\n",
            "Pt_EduLevel: 511 (3.93%)\n",
            "Pt_AnnualInc: 3230 (24.84%)\n",
            "NumPumpBolusOrShortActUnk: 0 (0.0%)\n",
            "GFR: 13002 (100.0%)\n",
            "diagAgeCombo: 0 (0.0%)\n",
            "Pt_A1cGoal: 13002 (100.0%)\n",
            "Pt_A1cGoalLev: 13002 (100.0%)\n",
            "Pt_A1cGoalLevelYr5: 13002 (100.0%)\n",
            "Pt_A1cGoalLevelDsYr5: 13002 (100.0%)\n",
            "SiteID: 0 (0.0%)\n"
          ]
        }
      ],
      "source": [
        "# Check missing data (Would run around 17 mins)\n",
        "df_diabete_hist_wo_na = df_diabete_hist.select([when(col(c) == '', None).otherwise(col(c)).alias(c) for c in df_diabete_hist_rf.columns]).dropDuplicates()\n",
        "data_missing(df_diabete_hist_wo_na)"
      ]
    },
    {
      "cell_type": "markdown",
      "metadata": {
        "id": "d1wKuYtnwwwC"
      },
      "source": [
        "For missing data preprocess, we mainly follow several rules:\n",
        "1. Drop variables with missing data percentage > 30%\n",
        "2. For binary variables: treat null as 0 (For variables like Pt_FatherT1D, which indicate whether the father has type 1 diabetes, we chose to simplify the variable by treating the value of 1 as indicating that the father has diabetes, and treating all other values as indicating that the father does not have diabetes. ）\n",
        "3. For variables with missing data percentage < 30%, we impute mean for continuous variables and mode for discrete variables"
      ]
    },
    {
      "cell_type": "code",
      "execution_count": 25,
      "metadata": {
        "id": "jJUES2LHcBHS"
      },
      "outputs": [],
      "source": [
        "# Deal with if biological family have type 1 diabetes\n",
        "df_diabete_hist_tmp1 = df_diabete_hist_wo_na.fillna({'Pt_FatherT1D': 0, 'Pt_MotherT1D': 0, 'Pt_SiblingT1D': 0, 'Pt_ChildT1D': 0, 'Pt_GrandchildT1D': 0, 'Pt_GrandparentT1D': 0})\n",
        "df_diabete_hist_tmp1 = df_diabete_hist_tmp1.withColumn(\"Pt_ImmBioFamT1D\", when((df_diabete_hist_tmp1[\"Pt_ImmBioFamT1D\"] == \"Yes\") |(df_diabete_hist_tmp1[\"Pt_ImmBioFamT1D\"] == '1.Yes'), 1).otherwise(0))\n",
        "df_diabete_hist_tmp1 = df_diabete_hist_tmp1.withColumn(\"Pt_ExtBioFamT1D\", when((df_diabete_hist_tmp1[\"Pt_ExtBioFamT1D\"] == \"Yes\") |(df_diabete_hist_tmp1[\"Pt_ExtBioFamT1D\"] == '1.Yes'), 1).otherwise(0))\n",
        "\n",
        "# Deal with insurance features\n",
        "df_diabete_hist_tmp2 = df_diabete_hist_tmp1.fillna({'Pt_InsPriv': 0, 'Pt_InsSingleService': 0, 'Pt_InsNoCoverage': 0, 'Pt_InsGov': 0})\n",
        "df_diabete_hist_tmp2 = df_diabete_hist_tmp2.drop('Pt_InsUnknown')\n",
        "\n",
        "# Deal with patient goal\n",
        "df_diabete_hist_tmp3 = df_diabete_hist_tmp2.drop('Pt_A1cGoal', 'Pt_A1cGoalLev', 'Pt_A1cGoalLevelYr5', 'Pt_A1cGoalLevelDsYr5')\n",
        "\n",
        "# Deal with health related indicator\n",
        "mean_BldPrSys = df_diabete_hist_tmp3.agg(mean('BldPrSys')).collect()[0][0]\n",
        "mean_BldPrDia = df_diabete_hist_tmp3.agg(mean('BldPrDia')).collect()[0][0]\n",
        "mean_WeightKg = df_diabete_hist_tmp3.agg(mean('WeightKg')).collect()[0][0]\n",
        "mean_HeightCm = df_diabete_hist_tmp3.agg(mean('HeightCm')).collect()[0][0]\n",
        "mean_HbA1c = df_diabete_hist_tmp3.agg(mean('HbA1c')).collect()[0][0]\n",
        "mean_HbA1cImputeDtMnC = df_diabete_hist_tmp3.agg(mean('HbA1cImputeDtMnC')).collect()[0][0]\n",
        "mean_bmi = df_diabete_hist_tmp3.agg(mean('bmi')).collect()[0][0]\n",
        "mean_SMBGperDayPtMeterCombo = df_diabete_hist_tmp3.agg(mean('SMBGperDayPtMeterCombo')).collect()[0][0]\n",
        "mean_BGTestAvgNumPtRep = df_diabete_hist_tmp3.agg(mean('BGTestAvgNumPtRep')).collect()[0][0]\n",
        "mean_TotalDailyInsPerKg = df_diabete_hist_tmp3.agg(mean('TotalDailyInsPerKg')).collect()[0][0]\n",
        "mode_SMBGperDayPtMeterComboCat = df_diabete_hist_tmp3.select('SMBGperDayPtMeterComboCat').groupBy('SMBGperDayPtMeterComboCat').count().orderBy('count', ascending=False).first()[0]\n",
        "df_diabete_hist_tmp4 = df_diabete_hist_tmp3.fillna({'BldPrSys': mean_BldPrSys, 'BldPrDia': mean_BldPrDia,\n",
        "                                                    'SMBGperDayPtMeterCombo': mean_SMBGperDayPtMeterCombo, 'SMBGperDayPtMeterComboCat': mode_SMBGperDayPtMeterComboCat,\n",
        "                                                    'AlbuminuriaStatus': 'Unknown', 'WeightKg': mean_WeightKg, 'HeightCm': mean_HeightCm, 'DirectLDL': 0,\n",
        "                                                    'bmi': mean_bmi, 'Pt_DKAFlg':0, 'HbA1c': mean_HbA1c, 'HbA1cImputeDtMnC': mean_HbA1cImputeDtMnC, \n",
        "                                                    'BGTestAvgNumPtRep': mean_BGTestAvgNumPtRep, 'TotalDailyInsPerKg': mean_TotalDailyInsPerKg})\n",
        "df_diabete_hist_tmp4 = df_diabete_hist_tmp4.withColumn(\"CGMUsed\", when(df_diabete_hist_tmp4[\"CGMUsed\"] == \"Yes\", 1).otherwise(0))\n",
        "df_diabete_hist_tmp4 = df_diabete_hist_tmp4.withColumn(\"ACEARB\", when(df_diabete_hist_tmp4[\"ACEARB\"] == \"Yes\", 1).otherwise(0))\n",
        "df_diabete_hist_tmp4 = df_diabete_hist_tmp4.withColumn(\"GFRIsBelow60\", when(df_diabete_hist_tmp4[\"GFRIsBelow60\"] == \"Yes\", 1).otherwise(0))\n",
        "df_diabete_hist_tmp4 = df_diabete_hist_tmp4.withColumn(\"isletCellTrans\", when(df_diabete_hist_tmp4[\"isletCellTrans\"] == \"Yes\", 1).otherwise(0))\n",
        "df_diabete_hist_tmp4 = df_diabete_hist_tmp4.withColumn(\"pancreasTrans\", when(df_diabete_hist_tmp4[\"pancreasTrans\"] == \"Yes\", 1).otherwise(0))\n",
        "df_diabete_hist_tmp4 = df_diabete_hist_tmp4.withColumn(\"LipidsFastingStatus\", when(df_diabete_hist_tmp4[\"LipidsFastingStatus\"] == \"Fasting\", 1).otherwise(0))\n",
        "df_diabete_hist_tmp4 = df_diabete_hist_tmp4.drop('LDL', 'LDLUnits', 'HDL', 'HDLUnits', 'TotChol', 'Triglyc', 'TriglycUnits', 'BUN', 'BUNUnits', \n",
        "                                                 'BGTestAvgNumMeter', 'UnitsInsBasalOrLongAct', 'GFR', 'AlbCreatRat_mggNew', 'CollectionType', 'TSH',\n",
        "                                                 'NumPumpBolusOrShortAct', 'InjMethod', 'NoExam', 'CGMUsedDevRschStudy', 'HeightUnk', \n",
        "                                                 'BldPrUnk', 'BloodTstNotAvail', 'UnitsInsBasalOrLongActUnk', 'BGTestMetDatNotAvail', 'BGTestPtRepDatNotAvail', \n",
        "                                                 'WeightUnk', 'bmiPerc', 'bmiZscore', 'NumPumpBolusOrShortActUnk')"
      ]
    },
    {
      "cell_type": "code",
      "execution_count": 26,
      "metadata": {
        "id": "leHfSxXq2L9V"
      },
      "outputs": [],
      "source": [
        "# Deal with insulin related features\n",
        "df_diabete_hist_tmp5 = df_diabete_hist_tmp4.withColumn(\"InsNotTaking\", when(df_diabete_hist_tmp4[\"InsNotTaking\"] == 1, 1).otherwise(0))\n",
        "df_diabete_hist_tmp5 = df_diabete_hist_tmp5.withColumn(\"InsUnk\", when(df_diabete_hist_tmp5[\"InsUnk\"] == 1, 1).otherwise(0))\n",
        "df_diabete_hist_tmp5 = df_diabete_hist_tmp5.fillna({'Pt_InsulinDeliveryMethod': 'Unknown', 'AutonomicNeuroCl':0})\n",
        "# For this variables, we combined InsulinUsedNew1-InsulinUsedNew6 to a new variable InsulinUsedNew and would perform one-hot encoding latter\n",
        "df_diabete_hist_tmp5 = df_diabete_hist_tmp5.select(\"*\", concat_ws(\",\", \"InsulinUsedNew1\", \"InsulinUsedNew2\", \"InsulinUsedNew3\",\n",
        "                                      \"InsulinUsedNew4\", \"InsulinUsedNew5\", \"InsulinUsedNew6\").alias(\"InsulinUsed\"))\n",
        "df_diabete_hist_tmp5 = df_diabete_hist_tmp5.drop(\"InsulinUsedNew1\", \"InsulinUsedNew2\", \"InsulinUsedNew3\",\n",
        "                                      \"InsulinUsedNew4\", \"InsulinUsedNew5\", \"InsulinUsedNew6\")\n",
        "\n",
        "# Deal with patient characristics\n",
        "df_diabete_hist_tmp6 = df_diabete_hist_tmp5.withColumn(\"PregInPastYear\", when(df_diabete_hist_tmp5[\"PregInPastYear\"] == \"Yes\", 1).otherwise(0))\n",
        "df_diabete_hist_tmp6 = df_diabete_hist_tmp6.withColumn(\"PregAtVisit\", when(df_diabete_hist_tmp6[\"PregAtVisit\"] == \"Yes\", 1).otherwise(0))\n",
        "df_diabete_hist_tmp6 = df_diabete_hist_tmp6.withColumn(\"Pt_SmokeCurr\", when(df_diabete_hist_tmp6[\"Pt_SmokeCurr\"] == \"Yes\", 1).otherwise(0))\n",
        "mode_EduLevel = df_diabete_hist_tmp6.select('Pt_EduLevel').groupBy('Pt_EduLevel').count().orderBy('count', ascending=False).first()[0]\n",
        "mode_Pt_AnnualInc = df_diabete_hist_tmp6.filter(col('Pt_AnnualInc').isNotNull()).select('Pt_AnnualInc').groupBy('Pt_AnnualInc').count().orderBy('count', ascending=False).first()[0]\n",
        "df_diabete_hist_tmp6 = df_diabete_hist_tmp6.fillna({'Pt_EduLevel': mode_EduLevel, 'Pt_AnnualInc': mode_Pt_AnnualInc})\n",
        "df_diabete_hist_tmp6 = df_diabete_hist_tmp6.drop('Pt_MaritalStatus', 'Visit', 'SiteID')\n",
        "# Transfer to ordinal variables\n",
        "df_diabete_hist_tmp6 = df_diabete_hist_tmp6.withColumn(\"Pt_EduLevel\", when(df_diabete_hist_tmp6[\"Pt_EduLevel\"] == '1. Less than high school', 1)\n",
        "                                 .when(df_diabete_hist_tmp6[\"Pt_EduLevel\"] == '2. Highschool diploma\\\\GED', 2)\n",
        "                                 .when(df_diabete_hist_tmp6[\"Pt_EduLevel\"] == '3. Associate degree', 3)\n",
        "                                 .when(df_diabete_hist_tmp6[\"Pt_EduLevel\"] == '4. Bachelor degree', 4)\n",
        "                                 .when(df_diabete_hist_tmp6[\"Pt_EduLevel\"] == '5. Master degree', 5)\n",
        "                                 .when(df_diabete_hist_tmp6[\"Pt_EduLevel\"] == '6. Professional/Doctorate Degree', 6)\n",
        "                                 .otherwise(0))\n",
        "df_diabete_hist_tmp6 = df_diabete_hist_tmp6.withColumn('Pt_AnnualInc', when(df_diabete_hist_tmp6['Pt_AnnualInc'] == 'Less than $25,000', 1)\n",
        "                                 .when(df_diabete_hist_tmp6['Pt_AnnualInc'] == '$25,000 - $35,000', 2)\n",
        "                                 .when(df_diabete_hist_tmp6['Pt_AnnualInc'] == '$35,000 - less than $50,000', 3)\n",
        "                                 .when(df_diabete_hist_tmp6['Pt_AnnualInc'] == '$50,000 - less than $75,000', 4)\n",
        "                                 .when(df_diabete_hist_tmp6['Pt_AnnualInc'] == '$75,000 - less than $100,000', 5)\n",
        "                                 .when(df_diabete_hist_tmp6['Pt_AnnualInc'] == '$100,000 - less than $200,000', 6)\n",
        "                                 .when(df_diabete_hist_tmp6['Pt_AnnualInc'] == '$200,000 or more', 7)\n",
        "                                 .otherwise(0))\n",
        "\n",
        "df_diabete_hist_clean = df_diabete_hist_tmp6.dropna(subset=[\"Pt_Gender\"])\n",
        "df_diabete_hist_clean = df_diabete_hist_clean.dropna(subset=[\"Pt_raceEthNew\"])\n",
        "df_diabete_hist_clean = df_diabete_hist_clean.dropna(subset=[\"diabDur\"])\n",
        "df_diabete_hist_clean = df_diabete_hist_clean.dropna(subset=[\"ExamDtMnC\"])\n",
        "\n",
        "# Deal with CGM related variables\n",
        "# May consider for further use to check whether different CGM model would correlated with adverse events\n",
        "df_diabete_hist_clean_wo_cgm = df_diabete_hist_clean.drop('Pt_PumpManuf', 'Pt_PumpModel', 'Pt_CGMUseNumDays', 'Pt_CGMManuf', 'Pt_CGMModel')"
      ]
    },
    {
      "cell_type": "markdown",
      "metadata": {
        "id": "iIlr2QP7-jAT"
      },
      "source": [
        "### MedCondLong: One record per medical condition record"
      ]
    },
    {
      "cell_type": "code",
      "execution_count": 27,
      "metadata": {
        "colab": {
          "base_uri": "https://localhost:8080/"
        },
        "id": "5Zm5QlGA-sxo",
        "outputId": "6b902b55-c42f-451c-c4ba-2d8a8363399a"
      },
      "outputs": [
        {
          "output_type": "stream",
          "name": "stdout",
          "text": [
            "PtID: 0 (0.0%)\n",
            "MedCondDiagDtUnk: 62779 (64.96%)\n",
            "MedCondTrt: 19530 (20.21%)\n",
            "MCLLTReal: 0 (0.0%)\n",
            "MCLLT: 0 (0.0%)\n",
            "MCHLT: 0 (0.0%)\n",
            "MCHLGT: 0 (0.0%)\n",
            "MCPrefTerm: 0 (0.0%)\n",
            "MCSOC: 0 (0.0%)\n",
            "MCLLTType: 66749 (69.07%)\n",
            "MCGroup: 15666 (16.21%)\n",
            "medCondDiagAge: 63687 (65.9%)\n"
          ]
        }
      ],
      "source": [
        "# Check missing data\n",
        "df_medical_cond_rf = df_medical_cond_rf.select([when(col(c) == '', None).otherwise(col(c)).alias(c) for c in df_medical_cond_rf.columns]).dropDuplicates()\n",
        "data_missing(df_medical_cond_rf)"
      ]
    },
    {
      "cell_type": "code",
      "execution_count": 28,
      "metadata": {
        "id": "gIIv56rB-2Nr"
      },
      "outputs": [],
      "source": [
        "# Only remain MCGroup, MedCondTrt and medCondDiagAge variables\n",
        "df_medical_cond_wo_na = df_medical_cond_rf.select('PtID', 'MCGroup', 'MedCondTrt', 'medCondDiagAge')\n",
        "df_medical_cond_wo_na = df_medical_cond_wo_na.dropna(subset = ['MCGroup'])\n",
        "df_medical_cond_wo_na = df_medical_cond_wo_na.withColumn('MedCondTrt', when(col('MedCondTrt').isin(['None', 'Unknown', 'Other', '']), None).otherwise(col('MedCondTrt')))"
      ]
    },
    {
      "cell_type": "markdown",
      "metadata": {
        "id": "l5j4it4d_xY9"
      },
      "source": [
        "### MedsLong: One record per medication record"
      ]
    },
    {
      "cell_type": "code",
      "execution_count": 29,
      "metadata": {
        "colab": {
          "base_uri": "https://localhost:8080/"
        },
        "id": "ONaILpCA_24Z",
        "outputId": "3d6b1bb1-ba54-4c10-cacb-d588939b604e"
      },
      "outputs": [
        {
          "output_type": "stream",
          "name": "stdout",
          "text": [
            "PtID: 0 (0.0%)\n",
            "Indication: 123287 (93.77%)\n",
            "MedStartCat: 123287 (93.77%)\n",
            "MedDose: 97105 (73.86%)\n",
            "MedStartUnk: 72756 (55.34%)\n",
            "MedStopUnk: 115493 (87.84%)\n",
            "DrugName: 0 (0.0%)\n",
            "RXCUI: 2250 (1.71%)\n",
            "MedStartAge: 87983 (66.92%)\n",
            "MedStopAge: 116923 (88.93%)\n"
          ]
        }
      ],
      "source": [
        "# Check missing data\n",
        "df_medication_rf = df_medication_rf.select([when(col(c) == '', None).otherwise(col(c)).alias(c) for c in df_medication_rf.columns]).dropDuplicates()\n",
        "data_missing(df_medication_rf)"
      ]
    },
    {
      "cell_type": "code",
      "execution_count": 30,
      "metadata": {
        "id": "zHgibu8H_8e6"
      },
      "outputs": [],
      "source": [
        "df_medication_wo_na = df_medication_rf.select('PtID', 'DrugName', 'MedStartAge', 'MedStopAge')\n",
        "top_30_drugnames = df_medication_wo_na.groupBy(\"drugname\").count().orderBy(desc(\"count\")).limit(30).rdd.flatMap(lambda x: x).collect()\n",
        "df_medication_wo_na = df_medication_wo_na.filter(col('DrugName').isin(top_30_drugnames))"
      ]
    },
    {
      "cell_type": "markdown",
      "metadata": {
        "id": "oM-MG2B6W-Ps"
      },
      "source": [
        "## Merge data\n",
        "### Merge test resualt and main table"
      ]
    },
    {
      "cell_type": "code",
      "execution_count": 31,
      "metadata": {
        "colab": {
          "base_uri": "https://localhost:8080/"
        },
        "id": "XbS4SJHvYOL4",
        "outputId": "cbecdaa5-bbf7-4551-c9d7-1052bd8d82f5"
      },
      "outputs": [
        {
          "output_type": "stream",
          "name": "stdout",
          "text": [
            "+-----+-----+----------------+---------+---------+----------+-------------------+----------------+---------------+------------+------------+-------------+-----------+----------------+-----------------+---------------+--------------------+--------+--------+----------------------+-------+-------------------+------+------+------------+---------+--------+-------------------+---------+---+-------+------------------+--------------+-----------------+------------+------------------------+----------------+-------------------------+---------+-----------+--------------+-------------+--------+---------+---------+------------+-----------+------------+------------+--------------------+------+\n",
            "| PtID|HbA1c|HbA1cImputeDtMnC|ExamDtMnC|Pt_Gender|Pt_InsPriv|Pt_InsSingleService|Pt_InsNoCoverage|Pt_ImmBioFamT1D|Pt_FatherT1D|Pt_MotherT1D|Pt_SiblingT1D|Pt_ChildT1D|Pt_GrandchildT1D|Pt_GrandparentT1D|Pt_ExtBioFamT1D|       Pt_raceEthNew|BldPrSys|BldPrDia|SMBGperDayPtMeterCombo|CGMUsed|  AlbuminuriaStatus|ACEARB|InsUnk|InsNotTaking| WeightKg|HeightCm|LipidsFastingStatus|DirectLDL|age|diabDur|TotalDailyInsPerKg|PregInPastYear|BGTestAvgNumPtRep|GFRIsBelow60|Pt_InsulinDeliveryMethod|AutonomicNeuroCl|SMBGperDayPtMeterComboCat|Pt_InsGov|PregAtVisit|isletCellTrans|pancreasTrans|Pt_SHFlg|Pt_DKAFlg|      bmi|Pt_SmokeCurr|Pt_EduLevel|Pt_AnnualInc|diagAgeCombo|         InsulinUsed|Method|\n",
            "+-----+-----+----------------+---------+---------+----------+-------------------+----------------+---------------+------------+------------+-------------+-----------+----------------+-----------------+---------------+--------------------+--------+--------+----------------------+-------+-------------------+------+------+------------+---------+--------+-------------------+---------+---+-------+------------------+--------------+-----------------+------------+------------------------+----------------+-------------------------+---------+-----------+--------------+-------------+--------+---------+---------+------------+-----------+------------+------------+--------------------+------+\n",
            "|10206| 11.1|          -1.228|      0.0|        F|         1|                  0|               0|              0|           0|           0|            0|          0|               0|                0|              0|  Hispanic or Latino|    99.0|    62.0|                   3.0|      0|No microalbuminuria|     0|     0|           0| 64.86371|   161.4|                  1|        0| 20|     14|         1.8500329|             0|              3.0|           0|         Injections/pens|               0|     A) 0-3 times per day|        1|          0|             0|            0|       1|        0|24.899734|           0|          2|           7|           6|Humalog (Lispro),...|   DCA|\n",
            "|10362|  8.1|           0.266|      0.0|        F|         1|                  0|               0|              0|           0|           0|            0|          0|               0|                0|              1|  White Non-Hispanic|    93.0|    61.0|                   6.0|      0|            Unknown|     0|     0|           0|23.405367| 126.492|                  0|        0|  7|      1|         1.1963068|             0|              6.0|           0|         Injections/pens|               0|     B) 4-6 times per day|        0|          0|             0|            0|       0|        0|14.628147|           0|          4|           5|           6|                    |   DCA|\n",
            "|10623|  8.7|             0.0|      0.0|        M|         1|                  0|               0|              0|           0|           0|            0|          0|               0|                0|              1|  White Non-Hispanic|    94.0|    53.0|                   4.0|      1|No microalbuminuria|     0|     0|           0|     22.4|   122.5|                  0|        0|  7|      6|        0.58035713|             0|              6.0|           0|         Injections/pens|               0|     B) 4-6 times per day|        0|          0|             0|            0|       0|        0|14.927114|           0|          4|           4|           0|    Novolog (Aspart)|   DCA|\n",
            "|11033|  7.9|             0.0|      0.0|        F|         1|                  0|               0|              0|           0|           0|            0|          0|               0|                0|              1|  White Non-Hispanic|    96.0|    62.0|                   2.0|      0|            Unknown|     0|     0|           0|     23.9|   123.4|                  0|        0|  7|      0|         0.8786611|             0|              4.0|           0|         Injections/pens|               0|     A) 0-3 times per day|        0|          0|             0|            0|       1|        0|15.695227|           0|          5|           4|           7|                    |   DCA|\n",
            "|11317|  7.3|             0.0|      0.0|        M|         1|                  0|               0|              0|           0|           0|            0|          0|               0|                0|              0|American Indian/A...|   121.0|    78.0|                   2.0|      0|No microalbuminuria|     0|     0|           0|     73.3|   169.2|                  1|        0| 20|     10|         1.0231924|             0|              2.0|           0|            Insulin pump|               0|     A) 0-3 times per day|        0|          0|             0|            0|       1|        0|25.603731|           1|          2|           6|          10|                    |   DCA|\n",
            "+-----+-----+----------------+---------+---------+----------+-------------------+----------------+---------------+------------+------------+-------------+-----------+----------------+-----------------+---------------+--------------------+--------+--------+----------------------+-------+-------------------+------+------+------------+---------+--------+-------------------+---------+---+-------+------------------+--------------+-----------------+------------+------------------------+----------------+-------------------------+---------+-----------+--------------+-------------+--------+---------+---------+------------+-----------+------------+------------+--------------------+------+\n",
            "only showing top 5 rows\n",
            "\n"
          ]
        }
      ],
      "source": [
        "# Join test result and diabetes historical record\n",
        "df_hist_w_test = df_diabete_hist_clean_wo_cgm.join(df_test_result_wo_na, ['PtID', 'HbA1c', 'HbA1cImputeDtMnC'], 'left')\n",
        "\n",
        "# Select data that did not match in the first join\n",
        "df_hist_w_test_subset = df_hist_w_test.filter(df_hist_w_test.Method.isNull())\n",
        "df_hist_w_test_subset = df_hist_w_test_subset.drop('Method')\n",
        "\n",
        "# Join subset data\n",
        "df_hist_w_test_subset_join = df_hist_w_test_subset.join(df_test_result_wo_na_subset.drop('HbA1cImputeDtMnC'), ['PtID', 'HbA1c'], 'left')\n",
        "\n",
        "# Combine subset data and data after first match\n",
        "df_hist_w_test_final = df_hist_w_test.filter(~df_hist_w_test.Method.isNull()).union(df_hist_w_test_subset_join)\n",
        "df_hist_w_test_final.show(5)"
      ]
    },
    {
      "cell_type": "markdown",
      "metadata": {
        "id": "Tg5wlGD362_L"
      },
      "source": [
        "### Merge medical condition data and main table"
      ]
    },
    {
      "cell_type": "code",
      "execution_count": 32,
      "metadata": {
        "id": "qDVYr3c566jl"
      },
      "outputs": [],
      "source": [
        "def get_dummies(df, col_name):\n",
        "  \"\"\"\n",
        "    Same function with get_dummies in Pandas\n",
        "    Input: dataset, column name\n",
        "    Output: variables after one-hot encoding\n",
        "  \"\"\"\n",
        "  types = df.select(lower(col_name)).distinct().rdd.flatMap(lambda x: x).filter(lambda x: x is not None).collect()\n",
        "  types_expr = [F.when(lower(F.col(col_name)) == ty, 1).otherwise(0).alias(col_name+'_' + ty.replace(' ', '_').replace('.', '')) for ty in types]\n",
        "  return types_expr"
      ]
    },
    {
      "cell_type": "code",
      "execution_count": 33,
      "metadata": {
        "colab": {
          "base_uri": "https://localhost:8080/"
        },
        "id": "uyAg8rlnxDev",
        "outputId": "b5623c80-fd5e-403e-c280-af7c7f055a76"
      },
      "outputs": [
        {
          "output_type": "stream",
          "name": "stdout",
          "text": [
            "Rows number: 80970\n",
            "Columns number: 46\n"
          ]
        }
      ],
      "source": [
        "MedCondTrt = get_dummies(df_medical_cond_wo_na, 'MedCondTrt')\n",
        "MCGroup = get_dummies(df_medical_cond_wo_na, 'MCGroup')\n",
        "\n",
        "# Medical condition data after one hot encoding\n",
        "df_medical_cond_oh = df_medical_cond_wo_na.select('PtID', 'medCondDiagAge', *MedCondTrt+MCGroup)\n",
        "print('Rows number:', df_medical_cond_oh.count())\n",
        "print('Columns number:', len(df_medical_cond_oh.columns))"
      ]
    },
    {
      "cell_type": "code",
      "execution_count": 34,
      "metadata": {
        "id": "k32DfnN70j-m"
      },
      "outputs": [],
      "source": [
        "# Sum columns to make sure each patient of certain age correspond to unique medical condition\n",
        "sum_cols_expr = [sum(col).alias(col) for col in df_medical_cond_oh.columns if col not in ['PtID', 'medCondDiagAge']]\n",
        "df_medical_cond_final = df_medical_cond_oh.groupBy(\"PtID\", \"medCondDiagAge\").agg(*sum_cols_expr)"
      ]
    },
    {
      "cell_type": "code",
      "execution_count": 35,
      "metadata": {
        "colab": {
          "base_uri": "https://localhost:8080/"
        },
        "id": "PJf54844EIkS",
        "outputId": "f1a4b3e9-dd65-40cb-e431-1d5242c0d3e5"
      },
      "outputs": [
        {
          "output_type": "stream",
          "name": "stdout",
          "text": [
            "Rows number: 38829\n",
            "Columns number: 46\n"
          ]
        }
      ],
      "source": [
        "print('Rows number:', df_medical_cond_final.count())\n",
        "print('Columns number:', len(df_medical_cond_final.columns))"
      ]
    },
    {
      "cell_type": "code",
      "execution_count": 36,
      "metadata": {
        "id": "0XBxDurelWBT"
      },
      "outputs": [],
      "source": [
        "# Join main table and meditation recorded\n",
        "df_medical_cond_final = df_medical_cond_final.withColumn(\"medCondDiagAge\", when(df_medical_cond_final[\"medCondDiagAge\"].isNull(), 0).otherwise(df_medical_cond_final[\"medCondDiagAge\"]))\n",
        "df_hist_w_test_w_med = df_hist_w_test_final.join(df_medical_cond_final, (df_hist_w_test_final['PtID'] == df_medical_cond_final['PtID']) & (df_hist_w_test_final.age > df_medical_cond_final.medCondDiagAge), 'left')\n",
        "df_hist_w_test_w_med = df_hist_w_test_w_med.drop(df_medical_cond_final[\"PtID\"])"
      ]
    },
    {
      "cell_type": "code",
      "execution_count": 37,
      "metadata": {
        "colab": {
          "base_uri": "https://localhost:8080/"
        },
        "id": "bY9f9ieXRwRS",
        "outputId": "d9ad0683-9e4d-452f-c328-eceb10b7149f"
      },
      "outputs": [
        {
          "output_type": "stream",
          "name": "stdout",
          "text": [
            "Rows number: 13002\n",
            "Columns number: 96\n"
          ]
        }
      ],
      "source": [
        "# Sum columns to make sure each patient of certain visit age correspond to unique medical condition\n",
        "sum_cols_expr = [sum(col).alias(col) for col in df_hist_w_test_w_med.columns if col not in df_hist_w_test_final.columns]\n",
        "df_hist_w_test_w_med_final = df_hist_w_test_w_med.groupBy(df_hist_w_test_final.columns).agg(*sum_cols_expr)\n",
        "\n",
        "print('Rows number:', df_hist_w_test_w_med_final.count())\n",
        "print('Columns number:', len(df_hist_w_test_w_med_final.columns))"
      ]
    },
    {
      "cell_type": "markdown",
      "metadata": {
        "id": "hXzXEQje7qsy"
      },
      "source": [
        "### Merge medication data and main table"
      ]
    },
    {
      "cell_type": "code",
      "execution_count": 38,
      "metadata": {
        "colab": {
          "base_uri": "https://localhost:8080/"
        },
        "id": "QOsmaHD0WWar",
        "outputId": "4d764482-8fc8-4c73-d8c1-62252e0a9a16"
      },
      "outputs": [
        {
          "output_type": "stream",
          "name": "stdout",
          "text": [
            "Rows number: 44549\n",
            "Columns number: 33\n"
          ]
        }
      ],
      "source": [
        "DrugName = get_dummies(df_medication_wo_na, 'DrugName')\n",
        "\n",
        "df_medication_oh = df_medication_wo_na.select('PtID', 'MedStartAge', 'MedStopAge', *DrugName)\n",
        "print('Rows number:', df_medication_oh.count())\n",
        "print('Columns number:', len(df_medication_oh.columns))"
      ]
    },
    {
      "cell_type": "code",
      "execution_count": 39,
      "metadata": {
        "id": "kcuGvUaJWvuK"
      },
      "outputs": [],
      "source": [
        "# Sum columns to make sure each patient of certain age range correspond to unique medication record\n",
        "sum_cols_expr = [sum(col).alias(col) for col in df_medication_oh.columns if col not in ['PtID', 'MedStartAge', 'MedStopAge']]\n",
        "df_medication_final = df_medication_oh.groupBy(\"PtID\", 'MedStartAge', 'MedStopAge').agg(*sum_cols_expr)"
      ]
    },
    {
      "cell_type": "code",
      "execution_count": 40,
      "metadata": {
        "id": "5kb0mgWKXE2p"
      },
      "outputs": [],
      "source": [
        "# Join main table and medication recorded\n",
        "df_medication_final = df_medication_final.withColumn(\"MedStartAge\", when(df_medication_final[\"MedStartAge\"].isNull(), 0).otherwise(df_medication_final[\"MedStartAge\"]))\n",
        "df_medication_final = df_medication_final.withColumn(\"MedStopAge\", when(df_medication_final[\"MedStopAge\"].isNull(), 100).otherwise(df_medication_final[\"MedStopAge\"]))\n",
        "\n",
        "# Sum columns to make sure each patient of certain visit age correspond to unique medication\n",
        "df_hist_w_test_w_med2 = df_hist_w_test_w_med_final.join(df_medication_final, (df_hist_w_test_w_med_final['PtID'] == df_medication_final['PtID']) & (df_hist_w_test_w_med_final.age > df_medication_final.MedStartAge)  & (df_hist_w_test_w_med_final.age < df_medication_final.MedStopAge), 'left')\n",
        "df_hist_w_test_w_med2 = df_hist_w_test_w_med2.drop(df_medication_final[\"PtID\"])\n",
        "sum_cols_expr = [sum(col).alias(col) for col in df_hist_w_test_w_med2.columns if col not in df_hist_w_test_w_med_final.columns]\n",
        "df_final = df_hist_w_test_w_med2.groupBy(df_hist_w_test_w_med_final.columns).agg(*sum_cols_expr)"
      ]
    },
    {
      "cell_type": "markdown",
      "metadata": {
        "id": "b3VxkclI75It"
      },
      "source": [
        "## Final Data Preparation"
      ]
    },
    {
      "cell_type": "code",
      "execution_count": 41,
      "metadata": {
        "id": "fxmQ2y0bynvZ"
      },
      "outputs": [],
      "source": [
        "# Drop useless age data in medical condition and medication\n",
        "df_final = df_final.drop('medCondDiagAge', 'MedStartAge', 'MedStopAge')\n",
        "# Impute missing value follows Rule 2 mentioned before\n",
        "for i in df_final.columns:\n",
        "  if ((i not in df_diabete_hist_clean_wo_cgm.columns) & (i != 'Method')):\n",
        "    df_final = df_final.withColumn(i, when(df_final[i]>0, 1).otherwise(0))\n",
        "# Impute missing value of Method\n",
        "df_final = df_final.fillna({'Method': 'Unknown'})"
      ]
    },
    {
      "cell_type": "code",
      "execution_count": 42,
      "metadata": {
        "id": "Ocf1bvyhrNi5"
      },
      "outputs": [],
      "source": [
        "# Deal with categorical method in main table\n",
        "Gender = get_dummies(df_final, 'Pt_Gender')\n",
        "Race = get_dummies(df_final, 'Pt_raceEthNew')\n",
        "AlbuminuriaStatus = get_dummies(df_final, 'AlbuminuriaStatus')\n",
        "Pt_InsulinDeliveryMethod = get_dummies(df_final, 'Pt_InsulinDeliveryMethod')\n",
        "SMBGperDayPtMeterComboCat = get_dummies(df_final, 'SMBGperDayPtMeterComboCat')\n",
        "Method = get_dummies(df_final, 'Method')\n",
        "\n",
        "df_final_oh = df_final.select(\"*\", *Gender+Race+AlbuminuriaStatus+Pt_InsulinDeliveryMethod+SMBGperDayPtMeterComboCat+Method).drop('Pt_Gender', 'Pt_raceEthNew', 'Pt_InsulinDeliveryMethod','AlbuminuriaStatus', 'SMBGperDayPtMeterComboCat', 'Method')"
      ]
    },
    {
      "cell_type": "code",
      "execution_count": 43,
      "metadata": {
        "colab": {
          "base_uri": "https://localhost:8080/"
        },
        "id": "6Iem_YLoT6dc",
        "outputId": "6f0b7c06-9277-4a50-f6ad-b263c4e9cc48"
      },
      "outputs": [
        {
          "output_type": "stream",
          "name": "stdout",
          "text": [
            "+-----+----------------------------+---------------------------+----------------------------+------------------------------+-------------------------+------------------------------------------------+------------------------------+---------------------------------------------+-------------------------+------------------------------+---------------------------------------------+-------------------------+--------------------------------+-------------------------+------------------+-------------------------+--------------------------------------------+---------------------------+--------------------------------------------+-------------------------+----------------------------+------------+------------------+\n",
            "| PtID|InsulinUsed_toujeo_(glargine|InsulinUsed_novolin_n_(nph)|InsulinUsed_humalog_(lispro)|InsulinUsed_apidra_(glulisine)|InsulinUsed_humulin_70/30|InsulinUsed_regular_(r)_(humulin_r_or_novolin_r)|InsulinUsed_degludec_(tresiba)|InsulinUsed_lantus_(glargine)_2_times_per_day|InsulinUsed_humalog_50/50|InsulinUsed_basaglar_(glargine|InsulinUsed_levemir_(detemir)_2_times_per_day|InsulinUsed_humalog_75/25|InsulinUsed_u500_human_r_regular|InsulinUsed_humulin_50/50|InsulinUsed__u100)|InsulinUsed_novolog_70/30|InsulinUsed_levemir_(detemir)_1_time_per_day|InsulinUsed_humulin_n_(nph)|InsulinUsed_lantus_(glargine)_1_time_per_day|InsulinUsed_novolin_70/30|InsulinUsed_novolog_(aspart)|InsulinUsed_|InsulinUsed__u300)|\n",
            "+-----+----------------------------+---------------------------+----------------------------+------------------------------+-------------------------+------------------------------------------------+------------------------------+---------------------------------------------+-------------------------+------------------------------+---------------------------------------------+-------------------------+--------------------------------+-------------------------+------------------+-------------------------+--------------------------------------------+---------------------------+--------------------------------------------+-------------------------+----------------------------+------------+------------------+\n",
            "|  148|                           0|                          0|                           1|                             0|                        0|                                               0|                             0|                                            0|                        0|                             0|                                            0|                        0|                               0|                        0|                 0|                        0|                                           0|                          0|                                           0|                        0|                           0|           0|                 0|\n",
            "|11748|                           0|                          0|                           0|                             0|                        0|                                               0|                             0|                                            0|                        0|                             0|                                            0|                        0|                               0|                        0|                 0|                        0|                                           0|                          0|                                           0|                        0|                           1|           0|                 0|\n",
            "|18024|                           0|                          0|                           0|                             0|                        0|                                               0|                             0|                                            0|                        0|                             0|                                            0|                        0|                               0|                        0|                 0|                        0|                                           0|                          0|                                           0|                        0|                           0|           1|                 0|\n",
            "|11858|                           0|                          0|                           0|                             0|                        0|                                               0|                             0|                                            0|                        0|                             0|                                            0|                        0|                               0|                        0|                 0|                        0|                                           0|                          0|                                           0|                        0|                           0|           1|                 0|\n",
            "|10362|                           0|                          0|                           0|                             0|                        0|                                               0|                             0|                                            0|                        0|                             0|                                            0|                        0|                               0|                        0|                 0|                        0|                                           0|                          0|                                           0|                        0|                           0|           1|                 0|\n",
            "+-----+----------------------------+---------------------------+----------------------------+------------------------------+-------------------------+------------------------------------------------+------------------------------+---------------------------------------------+-------------------------+------------------------------+---------------------------------------------+-------------------------+--------------------------------+-------------------------+------------------+-------------------------+--------------------------------------------+---------------------------+--------------------------------------------+-------------------------+----------------------------+------------+------------------+\n",
            "only showing top 5 rows\n",
            "\n"
          ]
        }
      ],
      "source": [
        "# Deal with previous mentioned InsulinUsed variable\n",
        "# Split combined columns as list\n",
        "df_final_oh = df_final_oh.withColumn('InsulinUsed', split(df_final_oh['InsulinUsed'], ','))\n",
        "# Explode the \"InsulinUsed\" column into separate rows\n",
        "df_exp = df_final_oh.select(\"PtID\", explode('InsulinUsed').alias('InsulinUsed'))\n",
        "# Get dummies\n",
        "dummies = get_dummies(df_exp, 'InsulinUsed')\n",
        "df_dummies = df_exp.select(\"PtID\", *dummies)\n",
        "df_dummies = df_dummies.select(\"*\").groupBy(\"PtID\").agg(*[sum(col).alias(col) for col in df_dummies.columns if col != 'PtID'])\n",
        "# Impute missing value follows Rule 2 mentioned before\n",
        "for i in df_dummies.columns:\n",
        "  if i != 'PtID':\n",
        "    df_dummies = df_dummies.withColumn(i, when(df_dummies[i]>0, 1).otherwise(0))\n",
        "df_dummies.show(5)"
      ]
    },
    {
      "cell_type": "code",
      "execution_count": 44,
      "metadata": {
        "id": "UT4mdyt0cHLn"
      },
      "outputs": [],
      "source": [
        "# Join Insulin one-hot encoding variables with final dataset\n",
        "df = df_final_oh.drop('InsulinUsed').join(df_dummies, [\"PtID\"], \"left\").drop('InsulinUsed_')"
      ]
    },
    {
      "cell_type": "code",
      "execution_count": 45,
      "metadata": {
        "id": "kS9qx70ibKqK"
      },
      "outputs": [],
      "source": [
        "# Convert to pandas dataframe and output as csv\n",
        "df_clean = df.toPandas()\n",
        "df_clean.to_csv(\"/content/gdrive/My Drive/Dataset/data_clean.csv\")"
      ]
    },
    {
      "cell_type": "markdown",
      "metadata": {
        "id": "E2Amp-jD9HPt"
      },
      "source": [
        "# Data Insights"
      ]
    },
    {
      "cell_type": "code",
      "execution_count": 46,
      "metadata": {
        "id": "1yopkWKZsWTw"
      },
      "outputs": [],
      "source": [
        "import numpy as np\n",
        "import pandas as pd\n",
        "import seaborn as sns\n",
        "from matplotlib import pyplot as plt\n",
        "from sklearn.model_selection import train_test_split, GridSearchCV\n",
        "from imblearn.over_sampling import SMOTE\n",
        "from sklearn.ensemble import RandomForestClassifier\n",
        "from sklearn.metrics import classification_report"
      ]
    },
    {
      "cell_type": "code",
      "execution_count": 47,
      "metadata": {
        "id": "E55RQetOshGS"
      },
      "outputs": [],
      "source": [
        "df = pd.read_csv(\"/content/gdrive/My Drive/Dataset/data_clean.csv\", index_col=0)"
      ]
    },
    {
      "cell_type": "code",
      "execution_count": 48,
      "metadata": {
        "id": "cs1exHpZCgcX",
        "colab": {
          "base_uri": "https://localhost:8080/",
          "height": 488
        },
        "outputId": "eac43daa-3869-4e18-dc3c-f166a1b8a213"
      },
      "outputs": [
        {
          "output_type": "execute_result",
          "data": {
            "text/plain": [
              "        PtID      HbA1c  HbA1cImputeDtMnC  ExamDtMnC  Pt_InsPriv  \\\n",
              "0        148  10.200000         -1.228000      0.000           1   \n",
              "1      11748   7.000000         -2.158000      0.000           1   \n",
              "2      18024   7.500000          0.000000      0.000           1   \n",
              "3      11858   7.400000          0.000000      0.000           1   \n",
              "4      10362   8.100000          0.266000      0.000           1   \n",
              "...      ...        ...               ...        ...         ...   \n",
              "12997   2376   8.800000          0.000000      0.000           0   \n",
              "12998  19235   8.100000          0.000000      0.000           1   \n",
              "12999  23438   7.400000          0.066000      0.000           1   \n",
              "13000  17497   8.234673         -0.327635      0.000           0   \n",
              "13001   7999   8.234673         -0.327635     -1.029           1   \n",
              "\n",
              "       Pt_InsSingleService  Pt_InsNoCoverage  Pt_ImmBioFamT1D  Pt_FatherT1D  \\\n",
              "0                        0                 0                0             0   \n",
              "1                        0                 0                1             1   \n",
              "2                        0                 0                1             0   \n",
              "3                        0                 0                0             0   \n",
              "4                        0                 0                0             0   \n",
              "...                    ...               ...              ...           ...   \n",
              "12997                    0                 0                0             0   \n",
              "12998                    0                 0                1             0   \n",
              "12999                    0                 0                0             0   \n",
              "13000                    0                 0                0             0   \n",
              "13001                    0                 0                0             0   \n",
              "\n",
              "       Pt_MotherT1D  ...  InsulinUsed_u500_human_r_regular  \\\n",
              "0                 0  ...                                 0   \n",
              "1                 0  ...                                 0   \n",
              "2                 0  ...                                 0   \n",
              "3                 0  ...                                 0   \n",
              "4                 0  ...                                 0   \n",
              "...             ...  ...                               ...   \n",
              "12997             0  ...                                 0   \n",
              "12998             0  ...                                 0   \n",
              "12999             0  ...                                 0   \n",
              "13000             0  ...                                 0   \n",
              "13001             0  ...                                 0   \n",
              "\n",
              "       InsulinUsed_humulin_50/50  InsulinUsed__u100)  \\\n",
              "0                              0                   0   \n",
              "1                              0                   0   \n",
              "2                              0                   0   \n",
              "3                              0                   0   \n",
              "4                              0                   0   \n",
              "...                          ...                 ...   \n",
              "12997                          0                   0   \n",
              "12998                          0                   0   \n",
              "12999                          0                   0   \n",
              "13000                          0                   0   \n",
              "13001                          0                   0   \n",
              "\n",
              "       InsulinUsed_novolog_70/30  \\\n",
              "0                              0   \n",
              "1                              0   \n",
              "2                              0   \n",
              "3                              0   \n",
              "4                              0   \n",
              "...                          ...   \n",
              "12997                          0   \n",
              "12998                          0   \n",
              "12999                          0   \n",
              "13000                          0   \n",
              "13001                          0   \n",
              "\n",
              "       InsulinUsed_levemir_(detemir)_1_time_per_day  \\\n",
              "0                                                 0   \n",
              "1                                                 0   \n",
              "2                                                 0   \n",
              "3                                                 0   \n",
              "4                                                 0   \n",
              "...                                             ...   \n",
              "12997                                             0   \n",
              "12998                                             0   \n",
              "12999                                             0   \n",
              "13000                                             0   \n",
              "13001                                             0   \n",
              "\n",
              "       InsulinUsed_humulin_n_(nph)  \\\n",
              "0                                0   \n",
              "1                                0   \n",
              "2                                0   \n",
              "3                                0   \n",
              "4                                0   \n",
              "...                            ...   \n",
              "12997                            0   \n",
              "12998                            0   \n",
              "12999                            0   \n",
              "13000                            0   \n",
              "13001                            0   \n",
              "\n",
              "       InsulinUsed_lantus_(glargine)_1_time_per_day  \\\n",
              "0                                                 0   \n",
              "1                                                 0   \n",
              "2                                                 0   \n",
              "3                                                 0   \n",
              "4                                                 0   \n",
              "...                                             ...   \n",
              "12997                                             0   \n",
              "12998                                             1   \n",
              "12999                                             1   \n",
              "13000                                             0   \n",
              "13001                                             1   \n",
              "\n",
              "       InsulinUsed_novolin_70/30  InsulinUsed_novolog_(aspart)  \\\n",
              "0                              0                             0   \n",
              "1                              0                             1   \n",
              "2                              0                             0   \n",
              "3                              0                             0   \n",
              "4                              0                             0   \n",
              "...                          ...                           ...   \n",
              "12997                          0                             1   \n",
              "12998                          0                             0   \n",
              "12999                          0                             1   \n",
              "13000                          0                             0   \n",
              "13001                          0                             1   \n",
              "\n",
              "       InsulinUsed__u300)  \n",
              "0                       0  \n",
              "1                       0  \n",
              "2                       0  \n",
              "3                       0  \n",
              "4                       0  \n",
              "...                   ...  \n",
              "12997                   0  \n",
              "12998                   0  \n",
              "12999                   0  \n",
              "13000                   0  \n",
              "13001                   0  \n",
              "\n",
              "[13002 rows x 167 columns]"
            ],
            "text/html": [
              "\n",
              "  <div id=\"df-92130e15-f568-4ea8-bdf3-ebb9bea56db9\">\n",
              "    <div class=\"colab-df-container\">\n",
              "      <div>\n",
              "<style scoped>\n",
              "    .dataframe tbody tr th:only-of-type {\n",
              "        vertical-align: middle;\n",
              "    }\n",
              "\n",
              "    .dataframe tbody tr th {\n",
              "        vertical-align: top;\n",
              "    }\n",
              "\n",
              "    .dataframe thead th {\n",
              "        text-align: right;\n",
              "    }\n",
              "</style>\n",
              "<table border=\"1\" class=\"dataframe\">\n",
              "  <thead>\n",
              "    <tr style=\"text-align: right;\">\n",
              "      <th></th>\n",
              "      <th>PtID</th>\n",
              "      <th>HbA1c</th>\n",
              "      <th>HbA1cImputeDtMnC</th>\n",
              "      <th>ExamDtMnC</th>\n",
              "      <th>Pt_InsPriv</th>\n",
              "      <th>Pt_InsSingleService</th>\n",
              "      <th>Pt_InsNoCoverage</th>\n",
              "      <th>Pt_ImmBioFamT1D</th>\n",
              "      <th>Pt_FatherT1D</th>\n",
              "      <th>Pt_MotherT1D</th>\n",
              "      <th>...</th>\n",
              "      <th>InsulinUsed_u500_human_r_regular</th>\n",
              "      <th>InsulinUsed_humulin_50/50</th>\n",
              "      <th>InsulinUsed__u100)</th>\n",
              "      <th>InsulinUsed_novolog_70/30</th>\n",
              "      <th>InsulinUsed_levemir_(detemir)_1_time_per_day</th>\n",
              "      <th>InsulinUsed_humulin_n_(nph)</th>\n",
              "      <th>InsulinUsed_lantus_(glargine)_1_time_per_day</th>\n",
              "      <th>InsulinUsed_novolin_70/30</th>\n",
              "      <th>InsulinUsed_novolog_(aspart)</th>\n",
              "      <th>InsulinUsed__u300)</th>\n",
              "    </tr>\n",
              "  </thead>\n",
              "  <tbody>\n",
              "    <tr>\n",
              "      <th>0</th>\n",
              "      <td>148</td>\n",
              "      <td>10.200000</td>\n",
              "      <td>-1.228000</td>\n",
              "      <td>0.000</td>\n",
              "      <td>1</td>\n",
              "      <td>0</td>\n",
              "      <td>0</td>\n",
              "      <td>0</td>\n",
              "      <td>0</td>\n",
              "      <td>0</td>\n",
              "      <td>...</td>\n",
              "      <td>0</td>\n",
              "      <td>0</td>\n",
              "      <td>0</td>\n",
              "      <td>0</td>\n",
              "      <td>0</td>\n",
              "      <td>0</td>\n",
              "      <td>0</td>\n",
              "      <td>0</td>\n",
              "      <td>0</td>\n",
              "      <td>0</td>\n",
              "    </tr>\n",
              "    <tr>\n",
              "      <th>1</th>\n",
              "      <td>11748</td>\n",
              "      <td>7.000000</td>\n",
              "      <td>-2.158000</td>\n",
              "      <td>0.000</td>\n",
              "      <td>1</td>\n",
              "      <td>0</td>\n",
              "      <td>0</td>\n",
              "      <td>1</td>\n",
              "      <td>1</td>\n",
              "      <td>0</td>\n",
              "      <td>...</td>\n",
              "      <td>0</td>\n",
              "      <td>0</td>\n",
              "      <td>0</td>\n",
              "      <td>0</td>\n",
              "      <td>0</td>\n",
              "      <td>0</td>\n",
              "      <td>0</td>\n",
              "      <td>0</td>\n",
              "      <td>1</td>\n",
              "      <td>0</td>\n",
              "    </tr>\n",
              "    <tr>\n",
              "      <th>2</th>\n",
              "      <td>18024</td>\n",
              "      <td>7.500000</td>\n",
              "      <td>0.000000</td>\n",
              "      <td>0.000</td>\n",
              "      <td>1</td>\n",
              "      <td>0</td>\n",
              "      <td>0</td>\n",
              "      <td>1</td>\n",
              "      <td>0</td>\n",
              "      <td>0</td>\n",
              "      <td>...</td>\n",
              "      <td>0</td>\n",
              "      <td>0</td>\n",
              "      <td>0</td>\n",
              "      <td>0</td>\n",
              "      <td>0</td>\n",
              "      <td>0</td>\n",
              "      <td>0</td>\n",
              "      <td>0</td>\n",
              "      <td>0</td>\n",
              "      <td>0</td>\n",
              "    </tr>\n",
              "    <tr>\n",
              "      <th>3</th>\n",
              "      <td>11858</td>\n",
              "      <td>7.400000</td>\n",
              "      <td>0.000000</td>\n",
              "      <td>0.000</td>\n",
              "      <td>1</td>\n",
              "      <td>0</td>\n",
              "      <td>0</td>\n",
              "      <td>0</td>\n",
              "      <td>0</td>\n",
              "      <td>0</td>\n",
              "      <td>...</td>\n",
              "      <td>0</td>\n",
              "      <td>0</td>\n",
              "      <td>0</td>\n",
              "      <td>0</td>\n",
              "      <td>0</td>\n",
              "      <td>0</td>\n",
              "      <td>0</td>\n",
              "      <td>0</td>\n",
              "      <td>0</td>\n",
              "      <td>0</td>\n",
              "    </tr>\n",
              "    <tr>\n",
              "      <th>4</th>\n",
              "      <td>10362</td>\n",
              "      <td>8.100000</td>\n",
              "      <td>0.266000</td>\n",
              "      <td>0.000</td>\n",
              "      <td>1</td>\n",
              "      <td>0</td>\n",
              "      <td>0</td>\n",
              "      <td>0</td>\n",
              "      <td>0</td>\n",
              "      <td>0</td>\n",
              "      <td>...</td>\n",
              "      <td>0</td>\n",
              "      <td>0</td>\n",
              "      <td>0</td>\n",
              "      <td>0</td>\n",
              "      <td>0</td>\n",
              "      <td>0</td>\n",
              "      <td>0</td>\n",
              "      <td>0</td>\n",
              "      <td>0</td>\n",
              "      <td>0</td>\n",
              "    </tr>\n",
              "    <tr>\n",
              "      <th>...</th>\n",
              "      <td>...</td>\n",
              "      <td>...</td>\n",
              "      <td>...</td>\n",
              "      <td>...</td>\n",
              "      <td>...</td>\n",
              "      <td>...</td>\n",
              "      <td>...</td>\n",
              "      <td>...</td>\n",
              "      <td>...</td>\n",
              "      <td>...</td>\n",
              "      <td>...</td>\n",
              "      <td>...</td>\n",
              "      <td>...</td>\n",
              "      <td>...</td>\n",
              "      <td>...</td>\n",
              "      <td>...</td>\n",
              "      <td>...</td>\n",
              "      <td>...</td>\n",
              "      <td>...</td>\n",
              "      <td>...</td>\n",
              "      <td>...</td>\n",
              "    </tr>\n",
              "    <tr>\n",
              "      <th>12997</th>\n",
              "      <td>2376</td>\n",
              "      <td>8.800000</td>\n",
              "      <td>0.000000</td>\n",
              "      <td>0.000</td>\n",
              "      <td>0</td>\n",
              "      <td>0</td>\n",
              "      <td>0</td>\n",
              "      <td>0</td>\n",
              "      <td>0</td>\n",
              "      <td>0</td>\n",
              "      <td>...</td>\n",
              "      <td>0</td>\n",
              "      <td>0</td>\n",
              "      <td>0</td>\n",
              "      <td>0</td>\n",
              "      <td>0</td>\n",
              "      <td>0</td>\n",
              "      <td>0</td>\n",
              "      <td>0</td>\n",
              "      <td>1</td>\n",
              "      <td>0</td>\n",
              "    </tr>\n",
              "    <tr>\n",
              "      <th>12998</th>\n",
              "      <td>19235</td>\n",
              "      <td>8.100000</td>\n",
              "      <td>0.000000</td>\n",
              "      <td>0.000</td>\n",
              "      <td>1</td>\n",
              "      <td>0</td>\n",
              "      <td>0</td>\n",
              "      <td>1</td>\n",
              "      <td>0</td>\n",
              "      <td>0</td>\n",
              "      <td>...</td>\n",
              "      <td>0</td>\n",
              "      <td>0</td>\n",
              "      <td>0</td>\n",
              "      <td>0</td>\n",
              "      <td>0</td>\n",
              "      <td>0</td>\n",
              "      <td>1</td>\n",
              "      <td>0</td>\n",
              "      <td>0</td>\n",
              "      <td>0</td>\n",
              "    </tr>\n",
              "    <tr>\n",
              "      <th>12999</th>\n",
              "      <td>23438</td>\n",
              "      <td>7.400000</td>\n",
              "      <td>0.066000</td>\n",
              "      <td>0.000</td>\n",
              "      <td>1</td>\n",
              "      <td>0</td>\n",
              "      <td>0</td>\n",
              "      <td>0</td>\n",
              "      <td>0</td>\n",
              "      <td>0</td>\n",
              "      <td>...</td>\n",
              "      <td>0</td>\n",
              "      <td>0</td>\n",
              "      <td>0</td>\n",
              "      <td>0</td>\n",
              "      <td>0</td>\n",
              "      <td>0</td>\n",
              "      <td>1</td>\n",
              "      <td>0</td>\n",
              "      <td>1</td>\n",
              "      <td>0</td>\n",
              "    </tr>\n",
              "    <tr>\n",
              "      <th>13000</th>\n",
              "      <td>17497</td>\n",
              "      <td>8.234673</td>\n",
              "      <td>-0.327635</td>\n",
              "      <td>0.000</td>\n",
              "      <td>0</td>\n",
              "      <td>0</td>\n",
              "      <td>0</td>\n",
              "      <td>0</td>\n",
              "      <td>0</td>\n",
              "      <td>0</td>\n",
              "      <td>...</td>\n",
              "      <td>0</td>\n",
              "      <td>0</td>\n",
              "      <td>0</td>\n",
              "      <td>0</td>\n",
              "      <td>0</td>\n",
              "      <td>0</td>\n",
              "      <td>0</td>\n",
              "      <td>0</td>\n",
              "      <td>0</td>\n",
              "      <td>0</td>\n",
              "    </tr>\n",
              "    <tr>\n",
              "      <th>13001</th>\n",
              "      <td>7999</td>\n",
              "      <td>8.234673</td>\n",
              "      <td>-0.327635</td>\n",
              "      <td>-1.029</td>\n",
              "      <td>1</td>\n",
              "      <td>0</td>\n",
              "      <td>0</td>\n",
              "      <td>0</td>\n",
              "      <td>0</td>\n",
              "      <td>0</td>\n",
              "      <td>...</td>\n",
              "      <td>0</td>\n",
              "      <td>0</td>\n",
              "      <td>0</td>\n",
              "      <td>0</td>\n",
              "      <td>0</td>\n",
              "      <td>0</td>\n",
              "      <td>1</td>\n",
              "      <td>0</td>\n",
              "      <td>1</td>\n",
              "      <td>0</td>\n",
              "    </tr>\n",
              "  </tbody>\n",
              "</table>\n",
              "<p>13002 rows × 167 columns</p>\n",
              "</div>\n",
              "      <button class=\"colab-df-convert\" onclick=\"convertToInteractive('df-92130e15-f568-4ea8-bdf3-ebb9bea56db9')\"\n",
              "              title=\"Convert this dataframe to an interactive table.\"\n",
              "              style=\"display:none;\">\n",
              "        \n",
              "  <svg xmlns=\"http://www.w3.org/2000/svg\" height=\"24px\"viewBox=\"0 0 24 24\"\n",
              "       width=\"24px\">\n",
              "    <path d=\"M0 0h24v24H0V0z\" fill=\"none\"/>\n",
              "    <path d=\"M18.56 5.44l.94 2.06.94-2.06 2.06-.94-2.06-.94-.94-2.06-.94 2.06-2.06.94zm-11 1L8.5 8.5l.94-2.06 2.06-.94-2.06-.94L8.5 2.5l-.94 2.06-2.06.94zm10 10l.94 2.06.94-2.06 2.06-.94-2.06-.94-.94-2.06-.94 2.06-2.06.94z\"/><path d=\"M17.41 7.96l-1.37-1.37c-.4-.4-.92-.59-1.43-.59-.52 0-1.04.2-1.43.59L10.3 9.45l-7.72 7.72c-.78.78-.78 2.05 0 2.83L4 21.41c.39.39.9.59 1.41.59.51 0 1.02-.2 1.41-.59l7.78-7.78 2.81-2.81c.8-.78.8-2.07 0-2.86zM5.41 20L4 18.59l7.72-7.72 1.47 1.35L5.41 20z\"/>\n",
              "  </svg>\n",
              "      </button>\n",
              "      \n",
              "  <style>\n",
              "    .colab-df-container {\n",
              "      display:flex;\n",
              "      flex-wrap:wrap;\n",
              "      gap: 12px;\n",
              "    }\n",
              "\n",
              "    .colab-df-convert {\n",
              "      background-color: #E8F0FE;\n",
              "      border: none;\n",
              "      border-radius: 50%;\n",
              "      cursor: pointer;\n",
              "      display: none;\n",
              "      fill: #1967D2;\n",
              "      height: 32px;\n",
              "      padding: 0 0 0 0;\n",
              "      width: 32px;\n",
              "    }\n",
              "\n",
              "    .colab-df-convert:hover {\n",
              "      background-color: #E2EBFA;\n",
              "      box-shadow: 0px 1px 2px rgba(60, 64, 67, 0.3), 0px 1px 3px 1px rgba(60, 64, 67, 0.15);\n",
              "      fill: #174EA6;\n",
              "    }\n",
              "\n",
              "    [theme=dark] .colab-df-convert {\n",
              "      background-color: #3B4455;\n",
              "      fill: #D2E3FC;\n",
              "    }\n",
              "\n",
              "    [theme=dark] .colab-df-convert:hover {\n",
              "      background-color: #434B5C;\n",
              "      box-shadow: 0px 1px 3px 1px rgba(0, 0, 0, 0.15);\n",
              "      filter: drop-shadow(0px 1px 2px rgba(0, 0, 0, 0.3));\n",
              "      fill: #FFFFFF;\n",
              "    }\n",
              "  </style>\n",
              "\n",
              "      <script>\n",
              "        const buttonEl =\n",
              "          document.querySelector('#df-92130e15-f568-4ea8-bdf3-ebb9bea56db9 button.colab-df-convert');\n",
              "        buttonEl.style.display =\n",
              "          google.colab.kernel.accessAllowed ? 'block' : 'none';\n",
              "\n",
              "        async function convertToInteractive(key) {\n",
              "          const element = document.querySelector('#df-92130e15-f568-4ea8-bdf3-ebb9bea56db9');\n",
              "          const dataTable =\n",
              "            await google.colab.kernel.invokeFunction('convertToInteractive',\n",
              "                                                     [key], {});\n",
              "          if (!dataTable) return;\n",
              "\n",
              "          const docLinkHtml = 'Like what you see? Visit the ' +\n",
              "            '<a target=\"_blank\" href=https://colab.research.google.com/notebooks/data_table.ipynb>data table notebook</a>'\n",
              "            + ' to learn more about interactive tables.';\n",
              "          element.innerHTML = '';\n",
              "          dataTable['output_type'] = 'display_data';\n",
              "          await google.colab.output.renderOutput(dataTable, element);\n",
              "          const docLink = document.createElement('div');\n",
              "          docLink.innerHTML = docLinkHtml;\n",
              "          element.appendChild(docLink);\n",
              "        }\n",
              "      </script>\n",
              "    </div>\n",
              "  </div>\n",
              "  "
            ]
          },
          "metadata": {},
          "execution_count": 48
        }
      ],
      "source": [
        "df"
      ]
    },
    {
      "cell_type": "code",
      "execution_count": 49,
      "metadata": {
        "id": "FPf6L0a3skZA"
      },
      "outputs": [],
      "source": [
        "X = df.loc[:, df.columns != 'Pt_SHFlg']\n",
        "y = df['Pt_SHFlg']"
      ]
    },
    {
      "cell_type": "markdown",
      "metadata": {
        "id": "AtY2kc7zswh7"
      },
      "source": [
        "### Visualization"
      ]
    },
    {
      "cell_type": "code",
      "execution_count": 50,
      "metadata": {
        "id": "RY9DJ_3YswES",
        "colab": {
          "base_uri": "https://localhost:8080/",
          "height": 468
        },
        "outputId": "4c3abed5-2112-4caf-c192-08bdaae72c7c"
      },
      "outputs": [
        {
          "output_type": "execute_result",
          "data": {
            "text/plain": [
              "<Axes: xlabel='Pt_SHFlg', ylabel='Count'>"
            ]
          },
          "metadata": {},
          "execution_count": 50
        },
        {
          "output_type": "display_data",
          "data": {
            "text/plain": [
              "<Figure size 640x480 with 1 Axes>"
            ],
            "image/png": "[encoded data removed]"
          },
          "metadata": {}
        }
      ],
      "source": [
        "sns.histplot(data = y)"
      ]
    },
    {
      "cell_type": "code",
      "execution_count": 51,
      "metadata": {
        "id": "OqmVrxOT9Ytf",
        "colab": {
          "base_uri": "https://localhost:8080/"
        },
        "outputId": "9b148b1f-167a-47c7-fbb2-93938f9fa908"
      },
      "outputs": [
        {
          "output_type": "execute_result",
          "data": {
            "text/plain": [
              "0    11949\n",
              "1     1053\n",
              "Name: Pt_SHFlg, dtype: int64"
            ]
          },
          "metadata": {},
          "execution_count": 51
        }
      ],
      "source": [
        "y.value_counts()"
      ]
    },
    {
      "cell_type": "markdown",
      "metadata": {
        "id": "Xr-q0Sz_9LDl"
      },
      "source": [
        "The dataset suffers from a serious data imbalance problem, where the minority class (1) accounts for only 8% of the total dataset. This can lead to biased model predictions and poor performance on category 1, which is the adverse events. To address this issue, we plan to use a variety of oversampling techniques, such as SMOTE, to increase the number of instances in the minority class. However, after trying SMOTE, the results were mediocre. As a next step, we plan to explore deep learning or generative learning related feature engineering approaches to further improve the performance. Additionally, we will consider using models that are insensitive to data imbalance, such as cost-sensitive learning algorithms. We will carefully evaluate the performance of each approach to determine the best way to address the data imbalance problem and improve the model's ability to correctly predict adverse events."
      ]
    },
    {
      "cell_type": "code",
      "execution_count": 52,
      "metadata": {
        "id": "1eEpX8t0s51r",
        "colab": {
          "base_uri": "https://localhost:8080/",
          "height": 468
        },
        "outputId": "1c7e94e8-91da-4a48-ab3c-2f92169d7d6e"
      },
      "outputs": [
        {
          "output_type": "execute_result",
          "data": {
            "text/plain": [
              "<Axes: xlabel='Pt_SHFlg', ylabel='HbA1c'>"
            ]
          },
          "metadata": {},
          "execution_count": 52
        },
        {
          "output_type": "display_data",
          "data": {
            "text/plain": [
              "<Figure size 640x480 with 1 Axes>"
            ],
            "image/png": "[encoded data removed]"
          },
          "metadata": {}
        }
      ],
      "source": [
        "sns.boxplot(data = df, x = df['Pt_SHFlg'], y = df['HbA1c'])"
      ]
    },
    {
      "cell_type": "markdown",
      "metadata": {
        "id": "iDfIeNA4Bf_w"
      },
      "source": [
        "It appears that there is a relationship between the patient's HbA1c concentration and the occurrence of adverse events. Specifically, the concentration of HbA1c was higher in users who experienced adverse events. This relationship may indicate that higher HbA1c levels increase the likelihood of adverse events occurring. "
      ]
    },
    {
      "cell_type": "code",
      "execution_count": 53,
      "metadata": {
        "id": "TgjQTIe-cMQo",
        "colab": {
          "base_uri": "https://localhost:8080/",
          "height": 467
        },
        "outputId": "3ed77c4f-2802-47f6-fde7-59ef4bb4f811"
      },
      "outputs": [
        {
          "output_type": "execute_result",
          "data": {
            "text/plain": [
              "Text(0, 0.5, 'Percentage of Patient having hypoglycemia events')"
            ]
          },
          "metadata": {},
          "execution_count": 53
        },
        {
          "output_type": "display_data",
          "data": {
            "text/plain": [
              "<Figure size 640x480 with 1 Axes>"
            ],
            "image/png": "[encoded data removed]"
          },
          "metadata": {}
        }
      ],
      "source": [
        "data_perc = df.groupby('CGMUsed')['Pt_SHFlg'].value_counts(normalize=True).mul(100).rename('percent').reset_index()\n",
        "sns.barplot(x='CGMUsed', y='percent', data=data_perc[data_perc['Pt_SHFlg'] == 1])\n",
        "plt.ylabel('Percentage of Patient having hypoglycemia events')"
      ]
    },
    {
      "cell_type": "markdown",
      "metadata": {
        "id": "eVJ2GP6AeRDo"
      },
      "source": [
        "We observed a reduction in the percentage of patients experiencing hypoglycemic events among those who used CGM. This suggests that the utilization of CGM products might have a suppressive effect on the occurrence of hypoglycemic events. Further investigation is required to examine this relationship through subsequent modeling."
      ]
    },
    {
      "cell_type": "markdown",
      "metadata": {
        "id": "VoBnq576tJ-0"
      },
      "source": [
        "### Initial Model"
      ]
    },
    {
      "cell_type": "code",
      "execution_count": 54,
      "metadata": {
        "id": "r7hQp_iitMnL"
      },
      "outputs": [],
      "source": [
        "X_train, X_test, y_train, y_test = train_test_split(X, y, test_size=0.2, random_state=0)\n",
        "\n",
        "sm = SMOTE(random_state=0)\n",
        "X_train_res, y_train_res = sm.fit_resample(X_train, y_train)"
      ]
    },
    {
      "cell_type": "code",
      "execution_count": 55,
      "metadata": {
        "id": "Xi9NN-ELtXxz",
        "colab": {
          "base_uri": "https://localhost:8080/"
        },
        "outputId": "135b5291-5805-46cf-8f6a-4392b8286fc0"
      },
      "outputs": [
        {
          "output_type": "stream",
          "name": "stdout",
          "text": [
            "              precision    recall  f1-score   support\n",
            "\n",
            "           0       0.92      1.00      0.96      2390\n",
            "           1       0.00      0.00      0.00       211\n",
            "\n",
            "    accuracy                           0.92      2601\n",
            "   macro avg       0.46      0.50      0.48      2601\n",
            "weighted avg       0.84      0.92      0.88      2601\n",
            "\n"
          ]
        }
      ],
      "source": [
        "# param_grid = {'n_estimators': [100, 200, 300], 'max_depth': [5, 10, None], 'min_samples_split': [2, 5, 10], 'min_samples_leaf': [1, 2, 4]}\n",
        "rf = RandomForestClassifier(random_state=0)\n",
        "#rf_grid = GridSearchCV(rf, param_grid, cv=5)\n",
        "rf.fit(X_train_res, y_train_res)\n",
        "y_pred = rf.predict(X_test)\n",
        "\n",
        "print(classification_report(y_test, y_pred))"
      ]
    },
    {
      "cell_type": "markdown",
      "metadata": {
        "id": "zhnCTtt8B1dm"
      },
      "source": [
        "It seems that the initial model was severely affected by the data imbalance, as it failed to predict the positive class events correctly. This indicates that the model was biased towards the majority class, which was expected given the severe data imbalance. To address this issue, we may consider increasing the weight of the positive class to place more importance on minimizing false negative rate, which refers to cases where the model fails to predict a positive event that actually occurs. "
      ]
    },
    {
      "cell_type": "markdown",
      "metadata": {
        "id": "8bgoy8hj_Ozr"
      },
      "source": [
        "Resources:\n",
        "1. https://medium.com/jackys-blog/pyspark%E7%89%88-%E5%A6%82%E4%BD%95%E5%AE%8C%E6%88%90%E5%BE%9E%E9%A0%AD%E5%88%B0%E5%B0%BE%E5%AE%8C%E6%88%90%E4%B8%80%E5%80%8B%E8%B3%87%E6%96%99%E7%A7%91%E5%AD%B8%E5%B0%88%E6%A1%88-dbf0a6ec9f59\n",
        "2. https://stackoverflow.com/questions/42805663/e-num-get-dummies-in-pyspark\n",
        "3. https://spark.apache.org/docs/3.2.0/api/python/reference/pyspark.pandas/general_functions.html#"
      ]
    }
  ],
  "metadata": {
    "colab": {
      "provenance": [],
      "include_colab_link": true
    },
    "gpuClass": "standard",
    "kernelspec": {
      "display_name": "Python 3",
      "name": "python3"
    },
    "language_info": {
      "name": "python"
    }
  },
  "nbformat": 4,
  "nbformat_minor": 0
}